{
    "cells": [
        {
            "attachments": {},
            "cell_type": "markdown",
            "metadata": {},
            "source": [
                "# Importujeme numpy\n",
                "\n",
                "Chceme-li použít `numpy`, je samozřejmě nutné modul importovat. Obvykle se použivá zkratka `np`: \n"
            ]
        },
        {
            "cell_type": "code",
            "execution_count": 4,
            "metadata": {
                "jupyter": {
                    "outputs_hidden": false
                }
            },
            "outputs": [],
            "source": [
                "import numpy as np\n",
                "p =print"
            ]
        },
        {
            "attachments": {},
            "cell_type": "markdown",
            "metadata": {},
            "source": [
                "# Lineární algebra\n",
                "Numpy dokáže velice obratně a efektivně pracovat s vektory, maticemi a n-dimenzionálními poli obecně. Toho je potřeba využívat a kdekoli to je možné použít *vektorizovaný kód*, tj. co nejvíce formulovat úlohy pomocí vektorových a maticových operací, jako jsou např. násobení matic."
            ]
        },
        {
            "cell_type": "markdown",
            "metadata": {},
            "source": [
                "### Operace se skaláry\n",
                "Jak bychom asi očekávali, skalárem můžeme násobit, dělit, můžeme ho přičítat nebo odečítat."
            ]
        },
        {
            "cell_type": "code",
            "execution_count": 25,
            "metadata": {
                "jupyter": {
                    "outputs_hidden": false
                }
            },
            "outputs": [
                {
                    "name": "stdout",
                    "output_type": "stream",
                    "text": [
                        "[0 1 2]\n"
                    ]
                }
            ],
            "source": [
                "v1 = np.arange(0, 3)\n",
                "p(v1)"
            ]
        },
        {
            "cell_type": "code",
            "execution_count": 7,
            "metadata": {
                "jupyter": {
                    "outputs_hidden": false
                }
            },
            "outputs": [
                {
                    "name": "stdout",
                    "output_type": "stream",
                    "text": [
                        "[0 2 4 6 8]\n"
                    ]
                }
            ],
            "source": [
                "v1 * 2\n",
                "p(v1 * 2)"
            ]
        },
        {
            "cell_type": "code",
            "execution_count": 8,
            "metadata": {
                "jupyter": {
                    "outputs_hidden": false
                }
            },
            "outputs": [
                {
                    "data": {
                        "text/plain": [
                            "array([2, 3, 4, 5, 6])"
                        ]
                    },
                    "execution_count": 8,
                    "metadata": {},
                    "output_type": "execute_result"
                }
            ],
            "source": [
                "v1 + 2\n"
            ]
        },
        {
            "cell_type": "code",
            "execution_count": 9,
            "metadata": {
                "jupyter": {
                    "outputs_hidden": false
                }
            },
            "outputs": [
                {
                    "data": {
                        "text/plain": [
                            "array([[4., 4., 4.],\n",
                            "       [4., 4., 4.],\n",
                            "       [4., 4., 4.]])"
                        ]
                    },
                    "execution_count": 9,
                    "metadata": {},
                    "output_type": "execute_result"
                }
            ],
            "source": [
                "np.ones((3, 3)) * 4\n"
            ]
        },
        {
            "attachments": {},
            "cell_type": "markdown",
            "metadata": {},
            "source": [
                "## Maticové operace po prvcích\n",
                "Operace jako násobení, sčítání atd. jsou v numpy standardně *po prvcích*, není to tedy klasická maticová (vektorová) algebra."
            ]
        },
        {
            "cell_type": "code",
            "execution_count": 10,
            "metadata": {},
            "outputs": [
                {
                    "data": {
                        "text/plain": [
                            "array([[ 0,  1,  2,  3,  4],\n",
                            "       [10, 11, 12, 13, 14],\n",
                            "       [20, 21, 22, 23, 24],\n",
                            "       [30, 31, 32, 33, 34],\n",
                            "       [40, 41, 42, 43, 44]])"
                        ]
                    },
                    "execution_count": 10,
                    "metadata": {},
                    "output_type": "execute_result"
                }
            ],
            "source": [
                "m1 = np.array([[n + m * 10 for n in range(5)] for m in range(5)])\n",
                "m1\n"
            ]
        },
        {
            "cell_type": "code",
            "execution_count": 11,
            "metadata": {
                "jupyter": {
                    "outputs_hidden": false
                }
            },
            "outputs": [
                {
                    "data": {
                        "text/plain": [
                            "array([[   0,    1,    4,    9,   16],\n",
                            "       [ 100,  121,  144,  169,  196],\n",
                            "       [ 400,  441,  484,  529,  576],\n",
                            "       [ 900,  961, 1024, 1089, 1156],\n",
                            "       [1600, 1681, 1764, 1849, 1936]])"
                        ]
                    },
                    "execution_count": 11,
                    "metadata": {},
                    "output_type": "execute_result"
                }
            ],
            "source": [
                "m1 * m1\n"
            ]
        },
        {
            "cell_type": "code",
            "execution_count": 12,
            "metadata": {
                "jupyter": {
                    "outputs_hidden": false
                }
            },
            "outputs": [
                {
                    "data": {
                        "text/plain": [
                            "array([ 0,  1,  4,  9, 16])"
                        ]
                    },
                    "execution_count": 12,
                    "metadata": {},
                    "output_type": "execute_result"
                }
            ],
            "source": [
                "v1 * v1\n"
            ]
        },
        {
            "attachments": {},
            "cell_type": "markdown",
            "metadata": {},
            "source": [
                "## Broadcasting\n",
                "Termín `Broadcasting` popisuje, jak NumPy zachází s poli s různými tvary během aritmetických operací. S výhradou určitých omezení je menší pole „vysíláno“ přes větší pole, takže mají kompatibilní tvary. Broadcasting poskytuje prostředky pro vektorizaci operací pole tak, aby smyčkování probíhalo v C namísto Pythonu. Dělá to bez vytváření zbytečných kopií dat a obvykle vede k efektivní implementaci algoritmů.\n",
                "\n",
                "Podrobnější popis broadcastingu je v dokumentaci NumPy viz [tady](https://docs.scipy.org/doc/numpy/user/basics.broadcasting.html)."
            ]
        },
        {
            "cell_type": "code",
            "execution_count": 26,
            "metadata": {
                "jupyter": {
                    "outputs_hidden": false
                }
            },
            "outputs": [
                {
                    "name": "stdout",
                    "output_type": "stream",
                    "text": [
                        "[0 1 2]\n",
                        "([1, 2, 3], [4, 5, 6], [7, 8, 9])\n",
                        "[[1 2 3]\n",
                        " [4 5 6]\n",
                        " [7 8 9]]\n"
                    ]
                },
                {
                    "data": {
                        "text/plain": [
                            "((3,), (3, 3))"
                        ]
                    },
                    "execution_count": 26,
                    "metadata": {},
                    "output_type": "execute_result"
                }
            ],
            "source": [
                "p(v1)\n",
                "arr = ([1,2,3], [4,5,6], [7,8,9])\n",
                "p(arr)\n",
                "m1 = np.array(arr)\n",
                "p(m1)\n",
                "v1.shape, m1.shape\n"
            ]
        },
        {
            "cell_type": "markdown",
            "metadata": {},
            "source": [
                "Výsledek bude mít rozměr `m1.shape`"
            ]
        },
        {
            "cell_type": "code",
            "execution_count": 27,
            "metadata": {
                "jupyter": {
                    "outputs_hidden": false
                }
            },
            "outputs": [
                {
                    "data": {
                        "text/plain": [
                            "array([[ 0,  2,  6],\n",
                            "       [ 0,  5, 12],\n",
                            "       [ 0,  8, 18]])"
                        ]
                    },
                    "execution_count": 27,
                    "metadata": {},
                    "output_type": "execute_result"
                }
            ],
            "source": [
                "v1 * m1\n"
            ]
        },
        {
            "cell_type": "markdown",
            "metadata": {},
            "source": [
                "## Maticová algebra\n",
                "Klasickou maticovou algebru zajišťuje pro pole typu `ndarray` funkce `dot` nebo operátor `@` ([PEP-465](https://www.python.org/dev/peps/pep-0465/)):"
            ]
        },
        {
            "cell_type": "code",
            "execution_count": 33,
            "metadata": {},
            "outputs": [
                {
                    "name": "stdout",
                    "output_type": "stream",
                    "text": [
                        "[0 1 2]\n",
                        "[[ 0  1  2]\n",
                        " [10 11 12]\n",
                        " [20 21 22]]\n"
                    ]
                }
            ],
            "source": [
                "v1 = np.arange(0, 3)\n",
                "m1 = np.array([[n + m * 10 for n in range(3)] for m in range(3)])\n",
                "print(v1)\n",
                "print(m1)\n"
            ]
        },
        {
            "cell_type": "code",
            "execution_count": 31,
            "metadata": {
                "jupyter": {
                    "outputs_hidden": false
                }
            },
            "outputs": [
                {
                    "data": {
                        "text/plain": [
                            "array([[ 50,  53,  56],\n",
                            "       [350, 383, 416],\n",
                            "       [650, 713, 776]])"
                        ]
                    },
                    "execution_count": 31,
                    "metadata": {},
                    "output_type": "execute_result"
                }
            ],
            "source": [
                "# maticové násobení dvou matic\n",
                "np.dot(m1, m1)\n"
            ]
        },
        {
            "cell_type": "code",
            "execution_count": 36,
            "metadata": {},
            "outputs": [
                {
                    "data": {
                        "text/plain": [
                            "array([[ 50,  53,  56],\n",
                            "       [350, 383, 416],\n",
                            "       [650, 713, 776]])"
                        ]
                    },
                    "execution_count": 36,
                    "metadata": {},
                    "output_type": "execute_result"
                }
            ],
            "source": [
                "m1 @ m1\n"
            ]
        },
        {
            "cell_type": "code",
            "execution_count": 34,
            "metadata": {
                "jupyter": {
                    "outputs_hidden": false
                }
            },
            "outputs": [
                {
                    "data": {
                        "text/plain": [
                            "array([ 5, 35, 65])"
                        ]
                    },
                    "execution_count": 34,
                    "metadata": {},
                    "output_type": "execute_result"
                }
            ],
            "source": [
                "# maticové násobení vektoru a matice\n",
                "np.dot(m1, v1)\n"
            ]
        },
        {
            "cell_type": "code",
            "execution_count": 35,
            "metadata": {
                "jupyter": {
                    "outputs_hidden": false
                }
            },
            "outputs": [
                {
                    "data": {
                        "text/plain": [
                            "5"
                        ]
                    },
                    "execution_count": 35,
                    "metadata": {},
                    "output_type": "execute_result"
                }
            ],
            "source": [
                "# skalární součin\n",
                "v1 @ v1\n"
            ]
        },
        {
            "cell_type": "markdown",
            "metadata": {},
            "source": [
                "## Transformace\n",
                "Už jsme viděli `.T` pro transponování. Existuje také funkce a metoda `transpose`. Dále existuje třeba `conjugate` pro komplexní sdružení."
            ]
        },
        {
            "cell_type": "code",
            "execution_count": 37,
            "metadata": {},
            "outputs": [
                {
                    "name": "stdout",
                    "output_type": "stream",
                    "text": [
                        "[[1 4 7]\n",
                        " [2 5 8]\n",
                        " [3 6 9]]\n",
                        "[[1 4 7]\n",
                        " [2 5 8]\n",
                        " [3 6 9]]\n",
                        "[[1 4 7]\n",
                        " [2 5 8]\n",
                        " [3 6 9]]\n"
                    ]
                }
            ],
            "source": [
                "A = np.array([[1, 2, 3], [4, 5, 6], [7, 8, 9]])\n",
                "print(A.T)\n",
                "print(A.transpose())\n",
                "print(np.transpose(A))"
            ]
        },
        {
            "cell_type": "code",
            "execution_count": 41,
            "metadata": {},
            "outputs": [
                {
                    "name": "stdout",
                    "output_type": "stream",
                    "text": [
                        "139999756525872\n",
                        "139999756525872\n",
                        "[[1 2 3]\n",
                        " [4 5 6]\n",
                        " [7 8 9]]\n"
                    ]
                }
            ],
            "source": [
                "# transpozice je \"view\"\n",
                "print(id(A))\n",
                "B = A.T\n",
                "print(id(B.base))\n",
                "p(B.base)"
            ]
        },
        {
            "cell_type": "code",
            "execution_count": 54,
            "metadata": {
                "jupyter": {
                    "outputs_hidden": false
                }
            },
            "outputs": [
                {
                    "name": "stdout",
                    "output_type": "stream",
                    "text": [
                        "[[1.+1.j 1.+2.j]\n",
                        " [1.+3.j 1.+4.j]]\n"
                    ]
                }
            ],
            "source": [
                "C = np.array([[1j, 2j], [3j, 4j]])\n",
                "print(C+1)\n"
            ]
        },
        {
            "cell_type": "code",
            "execution_count": 43,
            "metadata": {
                "jupyter": {
                    "outputs_hidden": false
                }
            },
            "outputs": [
                {
                    "data": {
                        "text/plain": [
                            "array([[0.-1.j, 0.-2.j],\n",
                            "       [0.-3.j, 0.-4.j]])"
                        ]
                    },
                    "execution_count": 43,
                    "metadata": {},
                    "output_type": "execute_result"
                }
            ],
            "source": [
                "np.conjugate(C)      # nebo C.conjugate()\n"
            ]
        },
        {
            "cell_type": "code",
            "execution_count": 44,
            "metadata": {
                "jupyter": {
                    "outputs_hidden": false
                }
            },
            "outputs": [
                {
                    "data": {
                        "text/plain": [
                            "array([[0.-1.j, 0.-3.j],\n",
                            "       [0.-2.j, 0.-4.j]])"
                        ]
                    },
                    "execution_count": 44,
                    "metadata": {},
                    "output_type": "execute_result"
                }
            ],
            "source": [
                "# Hermitovské sdružení\n",
                "C.conjugate().T\n"
            ]
        },
        {
            "cell_type": "code",
            "execution_count": 48,
            "metadata": {},
            "outputs": [
                {
                    "name": "stdout",
                    "output_type": "stream",
                    "text": [
                        "[[0.+1.j 0.+2.j]\n",
                        " [0.+3.j 0.+4.j]]\n",
                        "[[0.-1.j 0.-2.j]\n",
                        " [0.-3.j 0.-4.j]]\n"
                    ]
                }
            ],
            "source": [
                "# Hermitovské sdružení není! \"view\" kvůli conjugate()\n",
                "print(C)\n",
                "B = C.conjugate()\n",
                "print(B)"
            ]
        },
        {
            "cell_type": "markdown",
            "metadata": {},
            "source": [
                "Reálnou a imaginární část dostaneme pomocí `real` a `imag` nebo `.real` a `.imag` properties:"
            ]
        },
        {
            "cell_type": "code",
            "execution_count": 49,
            "metadata": {
                "jupyter": {
                    "outputs_hidden": false
                }
            },
            "outputs": [
                {
                    "data": {
                        "text/plain": [
                            "array([[0., 0.],\n",
                            "       [0., 0.]])"
                        ]
                    },
                    "execution_count": 49,
                    "metadata": {},
                    "output_type": "execute_result"
                }
            ],
            "source": [
                "np.real(C)\n"
            ]
        },
        {
            "cell_type": "code",
            "execution_count": 50,
            "metadata": {
                "jupyter": {
                    "outputs_hidden": false
                }
            },
            "outputs": [
                {
                    "data": {
                        "text/plain": [
                            "array([[1., 2.],\n",
                            "       [3., 4.]])"
                        ]
                    },
                    "execution_count": 50,
                    "metadata": {},
                    "output_type": "execute_result"
                }
            ],
            "source": [
                "C.imag\n"
            ]
        },
        {
            "cell_type": "markdown",
            "metadata": {},
            "source": [
                "Komplexní číslo rozložíme na absolutní hodnotu a úhel pomocí `abs` a `angle`."
            ]
        },
        {
            "cell_type": "code",
            "execution_count": 52,
            "metadata": {
                "jupyter": {
                    "outputs_hidden": false
                }
            },
            "outputs": [
                {
                    "name": "stdout",
                    "output_type": "stream",
                    "text": [
                        "[[1. 2.]\n",
                        " [3. 4.]]\n",
                        "[[0.78539816 1.10714872]\n",
                        " [1.24904577 1.32581766]]\n"
                    ]
                }
            ],
            "source": [
                "print(np.abs(C))\n",
                "# výsledek je v radiánech a všechny hodnoty byly čistě komplexní\n",
                "print(np.angle(C+1))\n"
            ]
        },
        {
            "cell_type": "code",
            "execution_count": 53,
            "metadata": {
                "jupyter": {
                    "outputs_hidden": false
                }
            },
            "outputs": [
                {
                    "data": {
                        "text/plain": [
                            "array([[1.41421356, 2.23606798],\n",
                            "       [3.16227766, 4.12310563]])"
                        ]
                    },
                    "execution_count": 53,
                    "metadata": {},
                    "output_type": "execute_result"
                }
            ],
            "source": [
                "np.abs(C + 1)\n"
            ]
        },
        {
            "cell_type": "markdown",
            "metadata": {},
            "source": [
                "## Základní funkce lineární algebry"
            ]
        },
        {
            "cell_type": "markdown",
            "metadata": {},
            "source": [
                "V Numpy existuje modul `linalg`. Pokročilejší lineární algebru je ale třeba hledat jinde, např. ve SciPy. \n",
                "\n",
                "Invertovat matici můžeme pomocí `linalg.inv`."
            ]
        },
        {
            "cell_type": "code",
            "execution_count": 55,
            "metadata": {},
            "outputs": [
                {
                    "data": {
                        "text/plain": [
                            "array([[ 1. ,  1.5],\n",
                            "       [-1. ,  2. ]])"
                        ]
                    },
                    "execution_count": 55,
                    "metadata": {},
                    "output_type": "execute_result"
                }
            ],
            "source": [
                "m2 = np.array([[1., 1.5], [-1, 2]])\n",
                "m2\n"
            ]
        },
        {
            "cell_type": "code",
            "execution_count": 64,
            "metadata": {},
            "outputs": [
                {
                    "data": {
                        "text/plain": [
                            "array([[1., 0.],\n",
                            "       [0., 1.]])"
                        ]
                    },
                    "execution_count": 64,
                    "metadata": {},
                    "output_type": "execute_result"
                }
            ],
            "source": [
                "m2 @ np.linalg.inv(m2)\n",
                "#help(np.eye)\n",
                "#p(np.eye(3))"
            ]
        },
        {
            "cell_type": "code",
            "execution_count": 61,
            "metadata": {
                "jupyter": {
                    "outputs_hidden": false
                }
            },
            "outputs": [
                {
                    "data": {
                        "text/plain": [
                            "array([[1., 0.],\n",
                            "       [0., 1.]])"
                        ]
                    },
                    "execution_count": 61,
                    "metadata": {},
                    "output_type": "execute_result"
                }
            ],
            "source": [
                "# toto by měla být jednotková matice\n",
                "np.linalg.inv(m2) @ m2\n"
            ]
        },
        {
            "cell_type": "markdown",
            "metadata": {},
            "source": [
                "`linalg.det` vypočítá determinant."
            ]
        },
        {
            "cell_type": "code",
            "execution_count": 65,
            "metadata": {
                "jupyter": {
                    "outputs_hidden": false
                }
            },
            "outputs": [
                {
                    "data": {
                        "text/plain": [
                            "3.5"
                        ]
                    },
                    "execution_count": 65,
                    "metadata": {},
                    "output_type": "execute_result"
                }
            ],
            "source": [
                "np.linalg.det(m2)\n"
            ]
        },
        {
            "cell_type": "markdown",
            "metadata": {},
            "source": [
                "`linagl.eig` vypočítá vlastní čísla a vlastní vektory matice."
            ]
        },
        {
            "cell_type": "code",
            "execution_count": 67,
            "metadata": {},
            "outputs": [
                {
                    "name": "stdout",
                    "output_type": "stream",
                    "text": [
                        "[1.5+1.11803399j 1.5-1.11803399j]\n"
                    ]
                }
            ],
            "source": [
                "D, U = np.linalg.eig(m2)\n",
                "print(D)\n",
                "#print(U)"
            ]
        },
        {
            "cell_type": "markdown",
            "metadata": {},
            "source": [
                "`linalg.svd` vypočítá singulární rozklad matice."
            ]
        },
        {
            "cell_type": "code",
            "execution_count": 68,
            "metadata": {},
            "outputs": [
                {
                    "name": "stdout",
                    "output_type": "stream",
                    "text": [
                        "[[ 0  1  2  3]\n",
                        " [ 4  5  6  7]\n",
                        " [ 8  9 10 11]]\n",
                        "[[ 0.1473065   0.90090739  0.40824829]\n",
                        " [ 0.50027528  0.2881978  -0.81649658]\n",
                        " [ 0.85324407 -0.32451178  0.40824829]]\n",
                        "[2.24092982e+01 1.95534034e+00 7.68985043e-16]\n",
                        "[[ 0.39390139  0.46087474  0.5278481   0.59482145]\n",
                        " [-0.73813393 -0.29596363  0.14620666  0.58837696]\n",
                        " [-0.50775138  0.52390687  0.47544042 -0.4915959 ]\n",
                        " [-0.20539847  0.65232016 -0.68844492  0.24152322]]\n"
                    ]
                }
            ],
            "source": [
                "M = np.arange(12).reshape(3, 4)\n",
                "print(M)\n",
                "\n",
                "U, S, V = np.linalg.svd(M)\n",
                "print(U)\n",
                "print(S)\n",
                "print(V)"
            ]
        }
    ],
    "metadata": {
        "kernelspec": {
            "display_name": "Python 3 (ipykernel)",
            "language": "python",
            "name": "python3"
        },
        "language_info": {
            "codemirror_mode": {
                "name": "ipython",
                "version": 3
            },
            "file_extension": ".py",
            "mimetype": "text/x-python",
            "name": "python",
            "nbconvert_exporter": "python",
            "pygments_lexer": "ipython3",
            "version": "3.12.3"
        }
    },
    "nbformat": 4,
    "nbformat_minor": 4
}
