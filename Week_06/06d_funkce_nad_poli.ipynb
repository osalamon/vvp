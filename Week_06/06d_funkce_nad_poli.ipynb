{
    "cells": [
        {
            "attachments": {},
            "cell_type": "markdown",
            "metadata": {},
            "source": [
                "# Importujeme numpy\n",
                "\n",
                "Chceme-li použít `numpy`, je samozřejmě nutné modul importovat. Obvykle se použivá zkratka `np`: \n"
            ]
        },
        {
            "cell_type": "code",
            "execution_count": 2,
            "metadata": {
                "jupyter": {
                    "outputs_hidden": false
                }
            },
            "outputs": [],
            "source": [
                "import numpy as np\n"
            ]
        },
        {
            "attachments": {},
            "cell_type": "markdown",
            "metadata": {},
            "source": [
                "## Zpracování dat\n",
                "\n",
                "Numpy obsahuje mnoho funkcí pro zpracování dat. Některé z nich jsou:\n",
                "- `np.sort` - seřadí pole\n",
                "- `np.unique` - vrátí unikátní prvky pole\n",
                "- `np.mean` - vypočítá průměr\n",
                "- `np.std` - vypočítá směrodatnou odchylku\n",
                "- `np.sum` - vypočítá součet\n",
                "- `np.cumsum` - vypočítá kumulativní součet\n",
                "- `np.prod` - vypočítá součin\n",
                "- `np.cumprod` - vypočítá kumulativní součin\n",
                "- `np.diff` - vypočítá rozdíly mezi sousedními prvky\n",
                "- ... a mnoho dalších viz [matematické funkce](https://docs.scipy.org/doc/numpy/reference/routines.math.html) a [statistické funcke](https://docs.scipy.org/doc/numpy/reference/routines.statistics.html) "
            ]
        },
        {
            "cell_type": "code",
            "execution_count": 15,
            "metadata": {
                "jupyter": {
                    "outputs_hidden": false
                }
            },
            "outputs": [
                {
                    "name": "stdout",
                    "output_type": "stream",
                    "text": [
                        "[13  4  1 13 15  8  6  7 16 13  2  8  3 19 15]\n"
                    ]
                }
            ],
            "source": [
                "data = np.random.randint(0, 20, (15))\n",
                "print(data)\n"
            ]
        },
        {
            "attachments": {},
            "cell_type": "markdown",
            "metadata": {},
            "source": [
                "Setřízené a unikátní prvky pole získáme pomocí `np.sort` a `np.unique`."
            ]
        },
        {
            "cell_type": "code",
            "execution_count": 4,
            "metadata": {},
            "outputs": [
                {
                    "name": "stdout",
                    "output_type": "stream",
                    "text": [
                        "[ 1  3  3  3  4  5  6  8 13 13 15 16 18 19 19]\n",
                        "[ 1  3  4  5  6  8 13 15 16 18 19]\n",
                        "[12  0  1  3 11  7  4 10  5  6 14  9  2  8 13]\n"
                    ]
                }
            ],
            "source": [
                "print(np.sort(data))\n",
                "print(np.unique(data))\n",
                "# pokud bychom chtěli indexy setříděných prvků\n",
                "print(np.argsort(data))\n"
            ]
        },
        {
            "cell_type": "markdown",
            "metadata": {},
            "source": [
                "#### mean (aritmetický průměr)"
            ]
        },
        {
            "cell_type": "code",
            "execution_count": null,
            "metadata": {
                "jupyter": {
                    "outputs_hidden": false
                }
            },
            "outputs": [],
            "source": [
                "print(np.mean(data))"
            ]
        },
        {
            "attachments": {},
            "cell_type": "markdown",
            "metadata": {},
            "source": [
                "#### směrodatná odchylka a rozptyl"
            ]
        },
        {
            "cell_type": "code",
            "execution_count": null,
            "metadata": {
                "jupyter": {
                    "outputs_hidden": false
                }
            },
            "outputs": [],
            "source": [
                "print(np.std(data))\n",
                "print(np.var(data))\n"
            ]
        },
        {
            "cell_type": "markdown",
            "metadata": {},
            "source": [
                "#### min a max"
            ]
        },
        {
            "cell_type": "code",
            "execution_count": null,
            "metadata": {
                "jupyter": {
                    "outputs_hidden": false
                }
            },
            "outputs": [],
            "source": [
                "print(data.min())\n",
                "print(data.max())\n"
            ]
        },
        {
            "cell_type": "markdown",
            "metadata": {},
            "source": [
                "#### sum, prod, trace"
            ]
        },
        {
            "cell_type": "code",
            "execution_count": 5,
            "metadata": {
                "jupyter": {
                    "outputs_hidden": false
                }
            },
            "outputs": [
                {
                    "name": "stdout",
                    "output_type": "stream",
                    "text": [
                        "146\n",
                        "6831446169600\n"
                    ]
                }
            ],
            "source": [
                "print(np.sum(data))\n",
                "print(np.prod(data))\n"
            ]
        },
        {
            "cell_type": "code",
            "execution_count": 8,
            "metadata": {
                "jupyter": {
                    "outputs_hidden": false
                }
            },
            "outputs": [
                {
                    "name": "stdout",
                    "output_type": "stream",
                    "text": [
                        "[[1 2 3]\n",
                        " [4 5 6]\n",
                        " [7 8 9]]\n",
                        "[12 15 18]\n",
                        "[ 6 15 24]\n"
                    ]
                }
            ],
            "source": [
                "# lze dělat i řádkové a sloupcové součty\n",
                "A = np.array([[1, 2, 3], [4, 5, 6], [7, 8, 9]])\n",
                "print(A)\n",
                "print(np.sum(A, axis=0))\n",
                "print(np.sum(A, axis=1))\n"
            ]
        },
        {
            "cell_type": "code",
            "execution_count": 6,
            "metadata": {},
            "outputs": [
                {
                    "name": "stdout",
                    "output_type": "stream",
                    "text": [
                        "[[[[ 0  1  2]\n",
                        "   [ 3  4  5]]\n",
                        "\n",
                        "  [[ 6  7  8]\n",
                        "   [ 9 10 11]]]\n",
                        "\n",
                        "\n",
                        " [[[12 13 14]\n",
                        "   [15 16 17]]\n",
                        "\n",
                        "  [[18 19 20]\n",
                        "   [21 22 23]]]]\n",
                        "[[18 20 22]\n",
                        " [24 26 28]]\n"
                    ]
                }
            ],
            "source": [
                "# stopa matice = součet prvků na diagonále\n",
                "A = np.array([[1, 2, 3], [4, 5, 6], [7, 8, 9]])\n",
                "#print(np.trace(A))\n",
                "\n",
                "\n",
                "a = np.arange(24).reshape((2,2,2,3))\n",
                "print(a)\n",
                "print(np.trace(a))"
            ]
        },
        {
            "cell_type": "code",
            "execution_count": 16,
            "metadata": {},
            "outputs": [
                {
                    "name": "stdout",
                    "output_type": "stream",
                    "text": [
                        "[13  4  1 13 15  8  6  7 16 13  2  8  3 19 15]\n"
                    ]
                }
            ],
            "source": [
                "print(data)"
            ]
        },
        {
            "cell_type": "code",
            "execution_count": 20,
            "metadata": {
                "jupyter": {
                    "outputs_hidden": false
                }
            },
            "outputs": [
                {
                    "data": {
                        "text/plain": [
                            "array([ 13,  17,  18,  31,  46,  54,  60,  67,  83,  96,  98, 106, 109,\n",
                            "       128, 143])"
                        ]
                    },
                    "execution_count": 20,
                    "metadata": {},
                    "output_type": "execute_result"
                }
            ],
            "source": [
                "# kumulativní součet\n",
                "np.cumsum(data)\n"
            ]
        },
        {
            "cell_type": "code",
            "execution_count": 21,
            "metadata": {
                "jupyter": {
                    "outputs_hidden": false
                }
            },
            "outputs": [
                {
                    "data": {
                        "text/plain": [
                            "array([           13,            52,            52,           676,\n",
                            "               10140,         81120,        486720,       3407040,\n",
                            "            54512640,     708664320,    1417328640,   11338629120,\n",
                            "         34015887360,  646301859840, 9694527897600])"
                        ]
                    },
                    "execution_count": 21,
                    "metadata": {},
                    "output_type": "execute_result"
                }
            ],
            "source": [
                "# kumulativní násobení\n",
                "np.cumprod(data)\n"
            ]
        },
        {
            "cell_type": "markdown",
            "metadata": {},
            "source": [
                "## Iterace\n",
                "\n",
                "Obecně se iteraci vyhýbáme a přednost dáváme vektorovým operacím (viz níže). Někdy je ale iterace nevyhnutelná."
            ]
        },
        {
            "cell_type": "code",
            "execution_count": 22,
            "metadata": {
                "jupyter": {
                    "outputs_hidden": false
                }
            },
            "outputs": [
                {
                    "name": "stdout",
                    "output_type": "stream",
                    "text": [
                        "1\n",
                        "2\n",
                        "3\n",
                        "4\n"
                    ]
                }
            ],
            "source": [
                "v = np.array([1, 2, 3, 4])\n",
                "\n",
                "for element in v:\n",
                "    print(element)\n"
            ]
        },
        {
            "cell_type": "markdown",
            "metadata": {},
            "source": [
                "Iteruje se přes první index (po řádcích)."
            ]
        },
        {
            "cell_type": "code",
            "execution_count": 24,
            "metadata": {
                "jupyter": {
                    "outputs_hidden": false
                }
            },
            "outputs": [
                {
                    "name": "stdout",
                    "output_type": "stream",
                    "text": [
                        "row: 2\n",
                        "row: 4\n"
                    ]
                }
            ],
            "source": [
                "M = np.array([[1, 2], [3, 4]])\n",
                "\n",
                "for row in M:\n",
                "    print(f\"row: {row[1]}\")\n"
            ]
        },
        {
            "attachments": {},
            "cell_type": "markdown",
            "metadata": {},
            "source": [
                "# Vektorové funkce\n",
                "\n",
                "Jak jsme již říkali, vektorové (vektorizované) funkce jsou obecně daleko rychlejší než iterace. Numpy nám naštěstí cestu od skalární po vektorovou funkci usnadňuje."
            ]
        },
        {
            "cell_type": "code",
            "execution_count": 26,
            "metadata": {
                "jupyter": {
                    "outputs_hidden": false
                }
            },
            "outputs": [],
            "source": [
                "def Theta(x):\n",
                "    \"\"\"\n",
                "    Scalar implemenation of the Heaviside step function.\n",
                "    \"\"\"\n",
                "    if x >= 0:\n",
                "        return 1\n",
                "    else:\n",
                "        return 0\n"
            ]
        },
        {
            "cell_type": "code",
            "execution_count": null,
            "metadata": {
                "jupyter": {
                    "outputs_hidden": false
                }
            },
            "outputs": [
                {
                    "data": {
                        "text/plain": [
                            "1"
                        ]
                    },
                    "execution_count": 29,
                    "metadata": {},
                    "output_type": "execute_result"
                }
            ],
            "source": [
                "# toto bychom chtěli, ale asi to nebude fungovat\n",
                "Theta(np.array([-3, -2, -1, 0, 1, 2, 3]))\n"
            ]
        },
        {
            "cell_type": "markdown",
            "metadata": {},
            "source": [
                "Pro vektorizaci naší funkce nám Numpy nabízí `vectorize`."
            ]
        },
        {
            "cell_type": "code",
            "execution_count": 32,
            "metadata": {
                "jupyter": {
                    "outputs_hidden": false
                }
            },
            "outputs": [
                {
                    "name": "stdout",
                    "output_type": "stream",
                    "text": [
                        "<numpy.vectorize object at 0x7eca1224a390>\n"
                    ]
                }
            ],
            "source": [
                "Theta_vec = np.vectorize(Theta)\n",
                "print(Theta_vec)"
            ]
        },
        {
            "cell_type": "code",
            "execution_count": 31,
            "metadata": {
                "jupyter": {
                    "outputs_hidden": false
                }
            },
            "outputs": [
                {
                    "data": {
                        "text/plain": [
                            "array([0, 0, 0, 1, 1, 1, 1])"
                        ]
                    },
                    "execution_count": 31,
                    "metadata": {},
                    "output_type": "execute_result"
                }
            ],
            "source": [
                "Theta_vec(np.array([-3, -2, -1, 0, 1, 2, 3]))\n"
            ]
        },
        {
            "cell_type": "markdown",
            "metadata": {},
            "source": [
                "To bylo celkem snadné ... Můžeme také (a pokud to jde tak bychom měli) přepsat naši funkci tak, aby fungovala jak pro skaláry tak pro pole."
            ]
        },
        {
            "cell_type": "code",
            "execution_count": 33,
            "metadata": {
                "jupyter": {
                    "outputs_hidden": false
                }
            },
            "outputs": [],
            "source": [
                "def Theta_numpy(x):\n",
                "    \"\"\"\n",
                "    Vector-aware implemenation of the Heaviside step function.\n",
                "    \"\"\"\n",
                "    return 1.0 * (x >= 0)\n"
            ]
        },
        {
            "cell_type": "code",
            "execution_count": 34,
            "metadata": {
                "jupyter": {
                    "outputs_hidden": false
                }
            },
            "outputs": [
                {
                    "data": {
                        "text/plain": [
                            "array([0., 0., 0., 1., 1., 1., 1.])"
                        ]
                    },
                    "execution_count": 34,
                    "metadata": {},
                    "output_type": "execute_result"
                }
            ],
            "source": [
                "Theta_numpy(np.array([-3, -2, -1, 0, 1, 2, 3]))\n"
            ]
        },
        {
            "cell_type": "code",
            "execution_count": 35,
            "metadata": {
                "jupyter": {
                    "outputs_hidden": false
                }
            },
            "outputs": [
                {
                    "data": {
                        "text/plain": [
                            "(0.0, 1.0)"
                        ]
                    },
                    "execution_count": 35,
                    "metadata": {},
                    "output_type": "execute_result"
                }
            ],
            "source": [
                "# funguje i pro skalár\n",
                "Theta_numpy(-1.2), Theta_numpy(2.6)\n"
            ]
        },
        {
            "cell_type": "markdown",
            "metadata": {},
            "source": [
                "Pojďme zkusit porovnat rychlost vektorizovaných funkcí. Tipnete si která bude rychlejší, případně jak moc rychlejší?"
            ]
        },
        {
            "cell_type": "code",
            "execution_count": 36,
            "metadata": {},
            "outputs": [],
            "source": [
                "randvec = np.random.random_sample((10000)) * 2000 - 1000\n"
            ]
        },
        {
            "cell_type": "code",
            "execution_count": 37,
            "metadata": {},
            "outputs": [
                {
                    "name": "stdout",
                    "output_type": "stream",
                    "text": [
                        "1.93 ms ± 66.4 µs per loop (mean ± std. dev. of 7 runs, 100 loops each)\n"
                    ]
                }
            ],
            "source": [
                "%timeit Theta_vec(randvec)\n"
            ]
        },
        {
            "cell_type": "code",
            "execution_count": 38,
            "metadata": {},
            "outputs": [
                {
                    "name": "stdout",
                    "output_type": "stream",
                    "text": [
                        "79 µs ± 912 ns per loop (mean ± std. dev. of 7 runs, 10,000 loops each)\n"
                    ]
                }
            ],
            "source": [
                "%timeit Theta_numpy(randvec)\n"
            ]
        },
        {
            "attachments": {},
            "cell_type": "markdown",
            "metadata": {},
            "source": [
                "# Používání polí v podmínkách\n",
                "Pokud chceme testovat po prvcích, v podmínkách pak použijeme metody `all` nebo `any`."
            ]
        },
        {
            "cell_type": "code",
            "execution_count": 45,
            "metadata": {
                "jupyter": {
                    "outputs_hidden": false
                }
            },
            "outputs": [],
            "source": [
                "M = np.array([[1, 2, 3], [4, 5, 6], [7, 8, 9]])\n"
            ]
        },
        {
            "cell_type": "code",
            "execution_count": 46,
            "metadata": {
                "jupyter": {
                    "outputs_hidden": false
                }
            },
            "outputs": [
                {
                    "name": "stdout",
                    "output_type": "stream",
                    "text": [
                        "[[1 2 3]\n",
                        " [4 5 6]\n",
                        " [7 8 9]]\n"
                    ]
                }
            ],
            "source": [
                "# výsledkem M > 5 je pole boolovských hodnot\n",
                "M > 5\n",
                "print(M)"
            ]
        },
        {
            "cell_type": "code",
            "execution_count": 47,
            "metadata": {
                "jupyter": {
                    "outputs_hidden": false
                }
            },
            "outputs": [
                {
                    "name": "stdout",
                    "output_type": "stream",
                    "text": [
                        "M obsahuje alespoň jeden prvek větší než 5\n",
                        "False\n"
                    ]
                }
            ],
            "source": [
                "if (M > 5).any():\n",
                "    print(\"M obsahuje alespoň jeden prvek větší než 5\")\n",
                "else:\n",
                "    print(\"M neobsahuje žádný prvek větší než 5\")\n",
                "\n",
                "print((M < 0).any())"
            ]
        },
        {
            "cell_type": "code",
            "execution_count": null,
            "metadata": {
                "jupyter": {
                    "outputs_hidden": false
                }
            },
            "outputs": [],
            "source": [
                "if (M > 5).all():\n",
                "    print(\"všechny prvky v M jsou větší než 5\")\n",
                "else:\n",
                "    print(\"M obsahuje alespoň jeden prvek menší rovno 5\")\n"
            ]
        },
        {
            "cell_type": "markdown",
            "metadata": {},
            "source": [
                "## Sumace do pole na základě indexů\n",
                "\n",
                "V mnoha matematických metodách narazíme na problém kdy máme částečné příspěvky do vektoru a indexy do kterých přispívají. Doposud jsme však neukázali jak takovýto problém vyřešit bez použití smyček. \n",
                "\n",
                "Naštěstí v NumPy toto lze provést pomocí `np.add.at`."
            ]
        },
        {
            "cell_type": "code",
            "execution_count": 3,
            "metadata": {},
            "outputs": [
                {
                    "name": "stdout",
                    "output_type": "stream",
                    "text": [
                        "[8 9 3 2 2 4 3 9 5 4 5 0 9 0 2 9 2 3 3 1 7 7 3 0 9 0 6 0 1 7 0 1 8 4 4 8 2\n",
                        " 4 7 1 1 3 4 5 2 9 5 2 1 1 7 8 7 7 5 2 5 1 6 1 1 6 5 1 8 5 0 5 5 2 2 7 3 0\n",
                        " 9 7 6 3 7 8 8 7 7 7 6 2 7 3 1 1 3 3 5 1 2 4 2 3 8 7]\n",
                        "[0.82616272 0.35740144 0.93455951 0.41403908 0.85826941 0.66258992\n",
                        " 0.04359871 0.33495527 0.06982071 0.62516256 0.49910047 0.53277992\n",
                        " 0.324336   0.80222244 0.45386353 0.17924662 0.21719762 0.41306692\n",
                        " 0.01986612 0.89068634 0.22188502 0.64867642 0.16265117 0.89931539\n",
                        " 0.2039921  0.3999617  0.60712013 0.71189597 0.65974204 0.1638449\n",
                        " 0.00797905 0.08240159 0.62647104 0.28626865 0.70140675 0.91894787\n",
                        " 0.01700367 0.3314489  0.13864183 0.43475226 0.94267483 0.63999015\n",
                        " 0.43357714 0.29283731 0.65289427 0.04893137 0.51407851 0.61665763\n",
                        " 0.14959356 0.70090138 0.58207111 0.28542483 0.21408564 0.16622197\n",
                        " 0.7380092  0.1243288  0.84696992 0.44944266 0.20807842 0.15340629\n",
                        " 0.73055499 0.52320071 0.78735231 0.97150095 0.16627696 0.18598449\n",
                        " 0.62008231 0.1036706  0.32708374 0.56219378 0.76516524 0.61813742\n",
                        " 0.23600181 0.97204535 0.56189136 0.49533493 0.49523607 0.39209379\n",
                        " 0.85376736 0.00590086 0.37938127 0.33485718 0.26557609 0.36845828\n",
                        " 0.45748479 0.32805298 0.36664242 0.85249875 0.00490111 0.93883432\n",
                        " 0.12271837 0.87142693 0.34746639 0.45980647 0.66005755 0.65785876\n",
                        " 0.32135036 0.79246526 0.74902446 0.65023054]\n"
                    ]
                }
            ],
            "source": [
                "n = 10\n",
                "m = 100\n",
                "idx = np.random.randint(0, n, m)\n",
                "print(idx)\n",
                "hodnoty = np.random.rand(m)\n",
                "print(hodnoty)\n"
            ]
        },
        {
            "cell_type": "code",
            "execution_count": 4,
            "metadata": {},
            "outputs": [
                {
                    "name": "stdout",
                    "output_type": "stream",
                    "text": [
                        "[0. 0. 0. 0. 0. 0. 0. 0. 0. 0.]\n"
                    ]
                },
                {
                    "data": {
                        "text/plain": [
                            "array([4.94628213, 7.56919879, 5.99107392, 5.48093748, 3.69831269,\n",
                            "       4.71237367, 2.29112012, 6.08843111, 3.95758999, 2.01075416])"
                        ]
                    },
                    "execution_count": 4,
                    "metadata": {},
                    "output_type": "execute_result"
                }
            ],
            "source": [
                "y = np.zeros((n,))\n",
                "print(y)\n",
                "for i in range(m):\n",
                "    y[idx[i]] += hodnoty[i]\n",
                "    \n",
                "y"
            ]
        },
        {
            "cell_type": "code",
            "execution_count": 7,
            "metadata": {},
            "outputs": [
                {
                    "data": {
                        "text/plain": [
                            "array([[[[ 1,  2,  3],\n",
                            "         [ 4,  5,  6]],\n",
                            "\n",
                            "        [[ 7,  8,  9],\n",
                            "         [10, 11, 12]]],\n",
                            "\n",
                            "\n",
                            "       [[[13, 14, 15],\n",
                            "         [16, 17, 18]],\n",
                            "\n",
                            "        [[19, 20, 21],\n",
                            "         [22, 23, 24]]]])"
                        ]
                    },
                    "execution_count": 7,
                    "metadata": {},
                    "output_type": "execute_result"
                }
            ],
            "source": [
                "import numpy as np\n",
                "x = np.zeros((n,))\n",
                "np.add.at(x, idx, hodnoty)\n",
                "x\n",
                "\n",
                "b = np.zeros(5,)\n",
                "np.add.at(a, [0, 1], 1)\n",
                "a"
            ]
        },
        {
            "cell_type": "markdown",
            "metadata": {},
            "source": [
                "## Další čtení"
            ]
        },
        {
            "cell_type": "markdown",
            "metadata": {},
            "source": [
                "* https://numpy.org/\n",
                "* https://jakevdp.github.io/PythonDataScienceHandbook/02.00-introduction-to-numpy.html\n",
                "* http://www.labri.fr/perso/nrougier/teaching/numpy.100/index.html"
            ]
        },
        {
            "cell_type": "code",
            "execution_count": null,
            "metadata": {},
            "outputs": [],
            "source": []
        }
    ],
    "metadata": {
        "kernelspec": {
            "display_name": "Python 3 (ipykernel)",
            "language": "python",
            "name": "python3"
        },
        "language_info": {
            "codemirror_mode": {
                "name": "ipython",
                "version": 3
            },
            "file_extension": ".py",
            "mimetype": "text/x-python",
            "name": "python",
            "nbconvert_exporter": "python",
            "pygments_lexer": "ipython3",
            "version": "3.12.3"
        }
    },
    "nbformat": 4,
    "nbformat_minor": 4
}
