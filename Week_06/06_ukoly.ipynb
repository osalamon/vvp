{
 "cells": [
  {
   "attachments": {},
   "cell_type": "markdown",
   "metadata": {},
   "source": [
    "# Úkoly\n",
    "\n",
    "## Indexování a řezání\n",
    "\n",
    "- Vytvořte NumPy pole s názvem `a` obsahující čísla od 1 do 10.\n",
    "- Vytvořte 2D NumPy pole s názvem `b` o rozměrech 3x3 a naplňte ho libovolnými čísly.\n"
   ]
  },
  {
   "cell_type": "code",
   "execution_count": 20,
   "metadata": {},
   "outputs": [
    {
     "name": "stdout",
     "output_type": "stream",
     "text": [
      "[ 1  2  3  4  5  6  7  8  9 10]\n",
      "[[1 4 5]\n",
      " [7 5 8]\n",
      " [7 2 9]]\n"
     ]
    }
   ],
   "source": [
    "import numpy as np\n",
    "p = print\n",
    "a = np.array(range(1,11))\n",
    "print(a)\n",
    "b = np.random.randint(1,10, (3,3))\n",
    "p(b)\n"
   ]
  },
  {
   "cell_type": "markdown",
   "metadata": {},
   "source": [
    "\n",
    "1. Vyberte z pole `a` třetí a čtvrtý prvek.\n"
   ]
  },
  {
   "cell_type": "code",
   "execution_count": 21,
   "metadata": {},
   "outputs": [
    {
     "name": "stdout",
     "output_type": "stream",
     "text": [
      "3\n",
      "4\n"
     ]
    }
   ],
   "source": [
    "p(a[2])\n",
    "p(a[3,])"
   ]
  },
  {
   "cell_type": "markdown",
   "metadata": {},
   "source": [
    "\n",
    "2. Vyberte z pole `a` všechny sudá čísla.\n"
   ]
  },
  {
   "cell_type": "code",
   "execution_count": 23,
   "metadata": {},
   "outputs": [
    {
     "data": {
      "text/plain": [
       "array([ 2,  4,  6,  8, 10])"
      ]
     },
     "execution_count": 23,
     "metadata": {},
     "output_type": "execute_result"
    }
   ],
   "source": [
    "a[1::2]"
   ]
  },
  {
   "cell_type": "markdown",
   "metadata": {},
   "source": [
    "\n",
    "3. Obraťte vektor `a` (první prvek se stane posledním).\n"
   ]
  },
  {
   "cell_type": "code",
   "execution_count": 24,
   "metadata": {},
   "outputs": [
    {
     "data": {
      "text/plain": [
       "array([10,  9,  8,  7,  6,  5,  4,  3,  2,  1])"
      ]
     },
     "execution_count": 24,
     "metadata": {},
     "output_type": "execute_result"
    }
   ],
   "source": [
    "a[::-1]"
   ]
  },
  {
   "cell_type": "markdown",
   "metadata": {},
   "source": [
    "\n",
    "5. Vyberte z pole `b` druhý řádek.\n"
   ]
  },
  {
   "cell_type": "code",
   "execution_count": 32,
   "metadata": {},
   "outputs": [
    {
     "data": {
      "text/plain": [
       "array([7, 5, 8])"
      ]
     },
     "execution_count": 32,
     "metadata": {},
     "output_type": "execute_result"
    }
   ],
   "source": [
    "b[1,:]"
   ]
  },
  {
   "cell_type": "markdown",
   "metadata": {},
   "source": [
    "\n",
    "6. Vyberte z pole `b` diagonální prvky.\n"
   ]
  },
  {
   "cell_type": "code",
   "execution_count": 36,
   "metadata": {},
   "outputs": [
    {
     "data": {
      "text/plain": [
       "array([1, 5, 9])"
      ]
     },
     "execution_count": 36,
     "metadata": {},
     "output_type": "execute_result"
    }
   ],
   "source": [
    "b.diagonal()"
   ]
  },
  {
   "cell_type": "markdown",
   "metadata": {},
   "source": [
    "\n",
    "7. Změňte hodnotu prvku na druhém řádku, prvním sloupci v `b` na 100.\n"
   ]
  },
  {
   "cell_type": "code",
   "execution_count": 38,
   "metadata": {},
   "outputs": [
    {
     "data": {
      "text/plain": [
       "array([[  1,   4,   5],\n",
       "       [100,   5,   8],\n",
       "       [  7,   2,   9]])"
      ]
     },
     "execution_count": 38,
     "metadata": {},
     "output_type": "execute_result"
    }
   ],
   "source": [
    "b[1,0] = 100\n",
    "b"
   ]
  },
  {
   "cell_type": "markdown",
   "metadata": {},
   "source": [
    "\n",
    "8. Vyberte z pole `b` všechny prvky větší než 5.\n"
   ]
  },
  {
   "cell_type": "code",
   "execution_count": 40,
   "metadata": {},
   "outputs": [
    {
     "data": {
      "text/plain": [
       "array([100,   8,   7,   9])"
      ]
     },
     "execution_count": 40,
     "metadata": {},
     "output_type": "execute_result"
    }
   ],
   "source": [
    "b[b > 5]"
   ]
  },
  {
   "cell_type": "markdown",
   "metadata": {},
   "source": [
    "\n",
    "9. Vytvořte masku pro pole `b`, která bude True pro všechny prvky menší než 3.\n"
   ]
  },
  {
   "cell_type": "code",
   "execution_count": 43,
   "metadata": {},
   "outputs": [
    {
     "data": {
      "text/plain": [
       "array([1, 4, 5, 5, 8, 7, 2])"
      ]
     },
     "execution_count": 43,
     "metadata": {},
     "output_type": "execute_result"
    }
   ],
   "source": [
    "mask = (b < 9)\n",
    "b[mask]"
   ]
  },
  {
   "cell_type": "markdown",
   "metadata": {},
   "source": [
    "\n",
    "10. Pomocí masky vyberte z pole `b` všechny prvky menší než 3.\n",
    "\n",
    "\n"
   ]
  },
  {
   "cell_type": "code",
   "execution_count": null,
   "metadata": {},
   "outputs": [],
   "source": []
  },
  {
   "cell_type": "markdown",
   "metadata": {},
   "source": [
    "\n",
    "## View a copy\n",
    "\n",
    "- Vytvořte NumPy pole s názvem `a` a naplňte ho libovolnými čísly.\n"
   ]
  },
  {
   "cell_type": "code",
   "execution_count": 46,
   "metadata": {},
   "outputs": [
    {
     "name": "stdout",
     "output_type": "stream",
     "text": [
      "[[1 1 5 3 1]\n",
      " [6 7 8 9 7]\n",
      " [5 7 4 6 1]\n",
      " [2 4 8 2 3]\n",
      " [2 4 6 4 2]]\n"
     ]
    }
   ],
   "source": [
    "a = np.random.randint(1,10,(5,5))\n",
    "p(a)"
   ]
  },
  {
   "cell_type": "markdown",
   "metadata": {},
   "source": [
    "\n",
    "1. Pomocí `a` vytvořte proměnnou `b` obsahující řez druhého řádku a všech sloupců pole `a`.\n"
   ]
  },
  {
   "cell_type": "code",
   "execution_count": 52,
   "metadata": {},
   "outputs": [
    {
     "name": "stdout",
     "output_type": "stream",
     "text": [
      "[6 7 8 9]\n"
     ]
    }
   ],
   "source": [
    "b = a[1,0:4]\n",
    "p(b)"
   ]
  },
  {
   "cell_type": "markdown",
   "metadata": {},
   "source": [
    "\n",
    "3. Změňte hodnotu prvního prvku v `b`. Jak se tato změna projeví v `a`?\n"
   ]
  },
  {
   "cell_type": "code",
   "execution_count": 53,
   "metadata": {},
   "outputs": [
    {
     "name": "stdout",
     "output_type": "stream",
     "text": [
      "[666   7   8   9]\n",
      "[[  1   1   5   3   1]\n",
      " [666   7   8   9   7]\n",
      " [  5   7   4   6   1]\n",
      " [  2   4   8   2   3]\n",
      " [  2   4   6   4   2]]\n"
     ]
    }
   ],
   "source": [
    "b[0] = 666\n",
    "p(b)\n",
    "p(a)"
   ]
  },
  {
   "cell_type": "markdown",
   "metadata": {},
   "source": [
    "\n",
    "4. Vytvořte proměnnou `c` obsahující **kopii** druhého řádku pole `a`.\n"
   ]
  },
  {
   "cell_type": "code",
   "execution_count": 56,
   "metadata": {},
   "outputs": [
    {
     "name": "stdout",
     "output_type": "stream",
     "text": [
      "[666   7   8   9   7]\n"
     ]
    }
   ],
   "source": [
    "c = a[1,:].copy()\n",
    "p(c)"
   ]
  },
  {
   "cell_type": "markdown",
   "metadata": {},
   "source": [
    "\n",
    "5. Změňte hodnotu prvního prvku v `c`. Jak se tato změna projeví v `a`?\n"
   ]
  },
  {
   "cell_type": "code",
   "execution_count": 57,
   "metadata": {},
   "outputs": [
    {
     "name": "stdout",
     "output_type": "stream",
     "text": [
      "[[  1   1   5   3   1]\n",
      " [666   7   8   9   7]\n",
      " [  5   7   4   6   1]\n",
      " [  2   4   8   2   3]\n",
      " [  2   4   6   4   2]]\n"
     ]
    }
   ],
   "source": [
    "c[0] = 20\n",
    "p(a)"
   ]
  },
  {
   "cell_type": "markdown",
   "metadata": {},
   "source": [
    "\n",
    "6. Zjistěte, zda `b` a `c` sdílí stejná data v paměti.\n"
   ]
  },
  {
   "cell_type": "code",
   "execution_count": 58,
   "metadata": {},
   "outputs": [
    {
     "name": "stdout",
     "output_type": "stream",
     "text": [
      "140135264009360\n",
      "140135264438480\n"
     ]
    }
   ],
   "source": [
    "p(id(b))\n",
    "p(id(c))"
   ]
  },
  {
   "cell_type": "markdown",
   "metadata": {},
   "source": [
    "\n",
    "7. Vytvořte proměnnou `d` obsahující diagonální prvky pole `a`.\n"
   ]
  },
  {
   "cell_type": "code",
   "execution_count": 73,
   "metadata": {},
   "outputs": [
    {
     "name": "stdout",
     "output_type": "stream",
     "text": [
      "[1 7 4 2 2]\n",
      "Help on _ArrayFunctionDispatcher in module numpy:\n",
      "\n",
      "diagonal(a, offset=0, axis1=0, axis2=1)\n",
      "    Return specified diagonals.\n",
      "\n",
      "    If `a` is 2-D, returns the diagonal of `a` with the given offset,\n",
      "    i.e., the collection of elements of the form ``a[i, i+offset]``.  If\n",
      "    `a` has more than two dimensions, then the axes specified by `axis1`\n",
      "    and `axis2` are used to determine the 2-D sub-array whose diagonal is\n",
      "    returned.  The shape of the resulting array can be determined by\n",
      "    removing `axis1` and `axis2` and appending an index to the right equal\n",
      "    to the size of the resulting diagonals.\n",
      "\n",
      "    In versions of NumPy prior to 1.7, this function always returned a new,\n",
      "    independent array containing a copy of the values in the diagonal.\n",
      "\n",
      "    In NumPy 1.7 and 1.8, it continues to return a copy of the diagonal,\n",
      "    but depending on this fact is deprecated. Writing to the resulting\n",
      "    array continues to work as it used to, but a FutureWarning is issued.\n",
      "\n",
      "    Starting in NumPy 1.9 it returns a read-only view on the original array.\n",
      "    Attempting to write to the resulting array will produce an error.\n",
      "\n",
      "    In some future release, it will return a read/write view and writing to\n",
      "    the returned array will alter your original array.  The returned array\n",
      "    will have the same type as the input array.\n",
      "\n",
      "    If you don't write to the array returned by this function, then you can\n",
      "    just ignore all of the above.\n",
      "\n",
      "    If you depend on the current behavior, then we suggest copying the\n",
      "    returned array explicitly, i.e., use ``np.diagonal(a).copy()`` instead\n",
      "    of just ``np.diagonal(a)``. This will work with both past and future\n",
      "    versions of NumPy.\n",
      "\n",
      "    Parameters\n",
      "    ----------\n",
      "    a : array_like\n",
      "        Array from which the diagonals are taken.\n",
      "    offset : int, optional\n",
      "        Offset of the diagonal from the main diagonal.  Can be positive or\n",
      "        negative.  Defaults to main diagonal (0).\n",
      "    axis1 : int, optional\n",
      "        Axis to be used as the first axis of the 2-D sub-arrays from which\n",
      "        the diagonals should be taken.  Defaults to first axis (0).\n",
      "    axis2 : int, optional\n",
      "        Axis to be used as the second axis of the 2-D sub-arrays from\n",
      "        which the diagonals should be taken. Defaults to second axis (1).\n",
      "\n",
      "    Returns\n",
      "    -------\n",
      "    array_of_diagonals : ndarray\n",
      "        If `a` is 2-D, then a 1-D array containing the diagonal and of the\n",
      "        same type as `a` is returned unless `a` is a `matrix`, in which case\n",
      "        a 1-D array rather than a (2-D) `matrix` is returned in order to\n",
      "        maintain backward compatibility.\n",
      "\n",
      "        If ``a.ndim > 2``, then the dimensions specified by `axis1` and `axis2`\n",
      "        are removed, and a new axis inserted at the end corresponding to the\n",
      "        diagonal.\n",
      "\n",
      "    Raises\n",
      "    ------\n",
      "    ValueError\n",
      "        If the dimension of `a` is less than 2.\n",
      "\n",
      "    See Also\n",
      "    --------\n",
      "    diag : MATLAB work-a-like for 1-D and 2-D arrays.\n",
      "    diagflat : Create diagonal arrays.\n",
      "    trace : Sum along diagonals.\n",
      "\n",
      "    Examples\n",
      "    --------\n",
      "    >>> a = np.arange(4).reshape(2,2)\n",
      "    >>> a\n",
      "    array([[0, 1],\n",
      "           [2, 3]])\n",
      "    >>> a.diagonal()\n",
      "    array([0, 3])\n",
      "    >>> a.diagonal(1)\n",
      "    array([1])\n",
      "\n",
      "    A 3-D example:\n",
      "\n",
      "    >>> a = np.arange(8).reshape(2,2,2); a\n",
      "    array([[[0, 1],\n",
      "            [2, 3]],\n",
      "           [[4, 5],\n",
      "            [6, 7]]])\n",
      "    >>> a.diagonal(0,  # Main diagonals of two arrays created by skipping\n",
      "    ...            0,  # across the outer(left)-most axis last and\n",
      "    ...            1)  # the \"middle\" (row) axis first.\n",
      "    array([[0, 6],\n",
      "           [1, 7]])\n",
      "\n",
      "    The sub-arrays whose main diagonals we just obtained; note that each\n",
      "    corresponds to fixing the right-most (column) axis, and that the\n",
      "    diagonals are \"packed\" in rows.\n",
      "\n",
      "    >>> a[:,:,0]  # main diagonal is [0 6]\n",
      "    array([[0, 2],\n",
      "           [4, 6]])\n",
      "    >>> a[:,:,1]  # main diagonal is [1 7]\n",
      "    array([[1, 3],\n",
      "           [5, 7]])\n",
      "\n",
      "    The anti-diagonal can be obtained by reversing the order of elements\n",
      "    using either `numpy.flipud` or `numpy.fliplr`.\n",
      "\n",
      "    >>> a = np.arange(9).reshape(3, 3)\n",
      "    >>> a\n",
      "    array([[0, 1, 2],\n",
      "           [3, 4, 5],\n",
      "           [6, 7, 8]])\n",
      "    >>> np.fliplr(a).diagonal()  # Horizontal flip\n",
      "    array([2, 4, 6])\n",
      "    >>> np.flipud(a).diagonal()  # Vertical flip\n",
      "    array([6, 4, 2])\n",
      "\n",
      "    Note that the order in which the diagonal is retrieved varies depending\n",
      "    on the flip function.\n",
      "\n"
     ]
    }
   ],
   "source": [
    "d = a.diagonal().copy()\n",
    "p(d)\n",
    "help(np.diagonal)"
   ]
  },
  {
   "cell_type": "markdown",
   "metadata": {},
   "source": [
    "\n",
    "8. Změňte hodnotu prvního diagonálního prvku v `d`. Jak se tato změna projeví v `a`?\n",
    "\n"
   ]
  },
  {
   "cell_type": "code",
   "execution_count": 74,
   "metadata": {},
   "outputs": [
    {
     "name": "stdout",
     "output_type": "stream",
     "text": [
      "[22  7  4  2  2]\n",
      "[[  1   1   5   3   1]\n",
      " [666   7   8   9   7]\n",
      " [  5   7   4   6   1]\n",
      " [  2   4   8   2   3]\n",
      " [  2   4   6   4   2]]\n"
     ]
    }
   ],
   "source": [
    "d[0] = 22\n",
    "p(d)\n",
    "p(a)"
   ]
  },
  {
   "cell_type": "markdown",
   "metadata": {},
   "source": [
    "9. Vytvořte proměnnou `e` obsahující transpozici pole `a`. Jak je to s pamětí, jedná se o kopii nebo o \"array view\" ověřte pomocí atributu base.\n"
   ]
  },
  {
   "cell_type": "code",
   "execution_count": 77,
   "metadata": {},
   "outputs": [
    {
     "name": "stdout",
     "output_type": "stream",
     "text": [
      "140135264448656\n",
      "[[  1 666   5   2   2]\n",
      " [  1   7   7   4   4]\n",
      " [  5   8   4   8   6]\n",
      " [  3   9   6   2   4]\n",
      " [  1   7   1   3   2]]\n",
      "140135264448656\n"
     ]
    }
   ],
   "source": [
    "p(id(a))\n",
    "e = a.T\n",
    "p(e)\n",
    "p(id(e.base))"
   ]
  },
  {
   "cell_type": "markdown",
   "metadata": {},
   "source": [
    "\n",
    "\n",
    "## Lineární algebra\n",
    "\n",
    "1. Vynásobte matici 5x3 maticí 3x2 (maticový součin).\n"
   ]
  },
  {
   "cell_type": "code",
   "execution_count": 78,
   "metadata": {},
   "outputs": [
    {
     "name": "stdout",
     "output_type": "stream",
     "text": [
      "[[2 3 2]\n",
      " [1 2 2]\n",
      " [1 2 3]\n",
      " [2 2 1]\n",
      " [3 1 3]]\n",
      "[[6 7]\n",
      " [8 7]\n",
      " [8 7]]\n"
     ]
    },
    {
     "data": {
      "text/plain": [
       "array([[52, 49],\n",
       "       [38, 35],\n",
       "       [46, 42],\n",
       "       [36, 35],\n",
       "       [50, 49]])"
      ]
     },
     "execution_count": 78,
     "metadata": {},
     "output_type": "execute_result"
    }
   ],
   "source": [
    "a = np.random.randint(1,4,(5,3))\n",
    "b = np.random.randint(5,9,(3,2))\n",
    "p(a)\n",
    "p(b)\n",
    "\n",
    "a @ b"
   ]
  },
  {
   "cell_type": "markdown",
   "metadata": {},
   "source": [
    "2. Vezměme náhodnou matici 10x2 představující kartézské souřadnice, převeďte je na polární souřadnice.\n"
   ]
  },
  {
   "cell_type": "code",
   "execution_count": 82,
   "metadata": {},
   "outputs": [
    {
     "name": "stdout",
     "output_type": "stream",
     "text": [
      "[[ 7  6]\n",
      " [ 4  2]\n",
      " [ 5  6]\n",
      " [ 2 10]\n",
      " [ 3  9]\n",
      " [ 4  2]\n",
      " [ 7  8]\n",
      " [ 2  5]\n",
      " [ 9  7]\n",
      " [ 5  3]]\n",
      "[0.73687178 0.90978201 0.40377412 0.54706395 0.57554606 0.66012425\n",
      " 0.45470621 1.20989741 0.35661834 0.7426819 ]\n",
      "[0.98047388 0.08936086 1.42679683 0.39009184 1.49180804 0.21726198\n",
      " 0.09015753 0.64735545 0.28131915 0.37829924]\n",
      "[0.73687178 0.90978201 0.40377412 0.54706395 0.57554606 0.66012425\n",
      " 0.45470621 1.20989741 0.35661834 0.7426819 ]\n",
      "[0.98047388 0.08936086 1.42679683 0.39009184 1.49180804 0.21726198\n",
      " 0.09015753 0.64735545 0.28131915 0.37829924]\n"
     ]
    }
   ],
   "source": [
    "import math\n",
    "a = np.random.randint(0,11,(10,2))\n",
    "p(a)\n",
    "\n",
    "import numpy as np\n",
    "C = np.random.random((10,2))\n",
    "X = np.copy(C[:, 0])\n",
    "Y = np.copy(C[:,1])\n",
    "R = np.sqrt(X**2+Y**2)\n",
    "T = np.arctan2(Y,X)\n",
    "print(R)\n",
    "print(T)\n",
    "\n",
    "X,Y = C[:,0], C[:,1]\n",
    "R = np.sqrt(X**2+Y**2)\n",
    "T = np.arctan2(Y,X)\n",
    "print(R)\n",
    "print(T)"
   ]
  },
  {
   "cell_type": "markdown",
   "metadata": {},
   "source": [
    "3. Vzhledem ke dvěma polím X a Y zkonstruujte Cauchyho matici C (Cij =1/(xi - yj)).\n"
   ]
  },
  {
   "cell_type": "code",
   "execution_count": null,
   "metadata": {},
   "outputs": [],
   "source": []
  },
  {
   "cell_type": "markdown",
   "metadata": {},
   "source": [
    "4. Uvažujme náhodný vektor o tvaru (100,2) představující souřadnice, najděte vzdálenosti bod po bodu.\n"
   ]
  },
  {
   "cell_type": "code",
   "execution_count": null,
   "metadata": {},
   "outputs": [],
   "source": []
  },
  {
   "cell_type": "markdown",
   "metadata": {},
   "source": [
    "5. Ověřte empiricky na náhodné matici, že platí $(AB)^T = B^T A^T$\n"
   ]
  },
  {
   "cell_type": "code",
   "execution_count": 84,
   "metadata": {},
   "outputs": [
    {
     "name": "stdout",
     "output_type": "stream",
     "text": [
      "[[32 17 15]\n",
      " [24  9 12]\n",
      " [32 11 18]]\n",
      "[[32 17 15]\n",
      " [24  9 12]\n",
      " [32 11 18]]\n"
     ]
    }
   ],
   "source": [
    "A = np.random.randint(1,5,(3,3))\n",
    "B = np.random.randint(1,5,(3,3))\n",
    "\n",
    "print((A @ B).T)\n",
    "print(B.T @ A.T)"
   ]
  },
  {
   "cell_type": "markdown",
   "metadata": {},
   "source": [
    "6. Pro náhodné 1D vektory $u, v$ vypočítejte dyadický součin $uv$ $$(uv)_{ij} = u_iv_j$$ pomocí `newaxis`. Zkontrolujte s `np.outer(u, v)`\n"
   ]
  },
  {
   "cell_type": "code",
   "execution_count": null,
   "metadata": {},
   "outputs": [],
   "source": []
  },
  {
   "cell_type": "markdown",
   "metadata": {},
   "source": [
    "7. Vypočítejte hodnost matice o velikosti 5x6 naplněnou hodnotami 0, 1, 2, 3 ... . Byly by jste schopni zdůvodnit proč je hodnost taková jaká je?\n"
   ]
  },
  {
   "cell_type": "code",
   "execution_count": null,
   "metadata": {},
   "outputs": [],
   "source": []
  },
  {
   "cell_type": "markdown",
   "metadata": {},
   "source": [
    "\n",
    "## Funkce nad poli\n",
    "1. Vytvořte pole 10x10 s náhodnými hodnotami a najděte minimální a maximální hodnoty.\n"
   ]
  },
  {
   "cell_type": "code",
   "execution_count": null,
   "metadata": {},
   "outputs": [],
   "source": []
  },
  {
   "cell_type": "markdown",
   "metadata": {},
   "source": [
    "2. Vytvořte náhodný vektor o velikosti 30 a najděte střední hodnotu.\n",
    "\n"
   ]
  },
  {
   "cell_type": "code",
   "execution_count": null,
   "metadata": {},
   "outputs": [],
   "source": []
  },
  {
   "cell_type": "markdown",
   "metadata": {},
   "source": [
    "3. Uvažujme celočíselný vektor Z, které z těchto výrazů jsou platné?\n",
    "   ```python\n",
    "   Z**Z\n",
    "   2 << Z >> 2\n",
    "   Z <- Z\n",
    "   1j*Z\n",
    "   Z/1/1\n",
    "   Z<Z>Z\n",
    "   ```\n",
    "\n"
   ]
  },
  {
   "cell_type": "code",
   "execution_count": null,
   "metadata": {},
   "outputs": [],
   "source": []
  },
  {
   "cell_type": "markdown",
   "metadata": {},
   "source": [
    "4. Jaký je výsledek následujícího výrazu? \n",
    "   ```python\n",
    "   0 * np.nan\n",
    "   np.nan == np.nan\n",
    "   np.inf > np.nan\n",
    "   np.nan - np.nan\n",
    "   np.nan in set([np.nan])\n",
    "   0.3 == 3 * 0.1\n",
    "   ```\n"
   ]
  },
  {
   "cell_type": "code",
   "execution_count": 87,
   "metadata": {},
   "outputs": [
    {
     "name": "stdout",
     "output_type": "stream",
     "text": [
      "nan\n",
      "False\n",
      "False\n",
      "nan\n",
      "True\n",
      "False\n"
     ]
    }
   ],
   "source": [
    "p(0 * np.nan)\n",
    "p(np.nan == np.nan)\n",
    "p(np.inf > np.nan)\n",
    "p(np.nan - np.nan)\n",
    "p(np.nan in set([np.nan]))\n",
    "p(0.3 == 3 * 0.1)"
   ]
  },
  {
   "cell_type": "markdown",
   "metadata": {},
   "source": [
    "5. Jaké jsou výsledky následujících výrazů?\n",
    "   ```python\n",
    "   np.array(0) / np.array(0)\n",
    "   np.array(0) // np.array(0)\n",
    "   np.array([np.nan]).astype(int).astype(float)\n",
    "   ```\n"
   ]
  },
  {
   "cell_type": "code",
   "execution_count": null,
   "metadata": {},
   "outputs": [],
   "source": []
  },
  {
   "cell_type": "markdown",
   "metadata": {},
   "source": [
    "\n",
    "6. Jak najít společné (stejné) hodnoty mezi dvěma poli? \n"
   ]
  },
  {
   "cell_type": "code",
   "execution_count": null,
   "metadata": {},
   "outputs": [],
   "source": []
  },
  {
   "cell_type": "markdown",
   "metadata": {},
   "source": [
    "\n",
    "7. Jak vypočítat ((A+B)*(-A/2)) přímo v poli (bez kopírování)?\n",
    "\n"
   ]
  },
  {
   "cell_type": "code",
   "execution_count": null,
   "metadata": {},
   "outputs": [],
   "source": []
  },
  {
   "cell_type": "markdown",
   "metadata": {},
   "source": [
    "\n",
    "8. Vytvořte náhodný vektor o velikosti 10 a seřaďte ho.\n"
   ]
  },
  {
   "cell_type": "code",
   "execution_count": 93,
   "metadata": {},
   "outputs": [
    {
     "name": "stdout",
     "output_type": "stream",
     "text": [
      "[13  3 11 10  2  7 11  5  9 11]\n",
      "[ 2  3  5  7  9 10 11 11 11 13]\n"
     ]
    }
   ],
   "source": [
    "A = np.random.randint(1,15,(10))\n",
    "p(A)\n",
    "p(np.sort(A))"
   ]
  },
  {
   "cell_type": "markdown",
   "metadata": {},
   "source": [
    "\n",
    "9. Vezměme daný vektor, jak přidat 1 ke každému prvku indexovanému druhým vektorem (dejte pozor na opakované indexy)? \n",
    "\n"
   ]
  },
  {
   "cell_type": "code",
   "execution_count": null,
   "metadata": {},
   "outputs": [],
   "source": []
  }
 ],
 "metadata": {
  "kernelspec": {
   "display_name": "Python 3 (ipykernel)",
   "language": "python",
   "name": "python3"
  },
  "language_info": {
   "codemirror_mode": {
    "name": "ipython",
    "version": 3
   },
   "file_extension": ".py",
   "mimetype": "text/x-python",
   "name": "python",
   "nbconvert_exporter": "python",
   "pygments_lexer": "ipython3",
   "version": "3.12.3"
  },
  "orig_nbformat": 4,
  "vscode": {
   "interpreter": {
    "hash": "e7370f93d1d0cde622a1f8e1c04877d8463912d04d973331ad4851f04de6915a"
   }
  }
 },
 "nbformat": 4,
 "nbformat_minor": 2
}
