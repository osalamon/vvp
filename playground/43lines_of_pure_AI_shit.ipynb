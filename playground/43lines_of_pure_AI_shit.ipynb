{
 "cells": [
  {
   "cell_type": "markdown",
   "metadata": {},
   "source": [
    "# hello, jak se mas? (purely AI-generated function for prompt like \"generate random function with parameters and 20 lines long\")\n"
   ]
  },
  {
   "cell_type": "code",
   "execution_count": 2,
   "metadata": {},
   "outputs": [
    {
     "name": "stdout",
     "output_type": "stream",
     "text": [
      "Both numbers are positive.\n",
      "The sum of 4 and 22 is 26.\n",
      "The difference between 4 and 22 is -18.\n",
      "The product of 4 and 22 is 88.\n",
      "The quotient of 4 divided by 22 is 0.18181818181818182.\n",
      "The remainder of 4 divided by 22 is 4.\n"
     ]
    },
    {
     "data": {
      "text/plain": [
       "{'sum': 26,\n",
       " 'difference': -18,\n",
       " 'product': 88,\n",
       " 'quotient': 0.18181818181818182,\n",
       " 'remainder': 4}"
      ]
     },
     "execution_count": 2,
     "metadata": {},
     "output_type": "execute_result"
    }
   ],
   "source": [
    "def process_numbers(a, b):\n",
    "    # Check if both numbers are positive\n",
    "    if a > 0 and b > 0:\n",
    "        print(\"Both numbers are positive.\")\n",
    "    elif a < 0 and b < 0:\n",
    "        print(\"Both numbers are negative.\")\n",
    "    else:\n",
    "        print(\"The numbers have different signs.\")\n",
    "    \n",
    "    # Calculate the sum\n",
    "    sum_ab = a + b\n",
    "    print(f\"The sum of {a} and {b} is {sum_ab}.\")\n",
    "    \n",
    "    # Calculate the difference\n",
    "    diff_ab = a - b\n",
    "    print(f\"The difference between {a} and {b} is {diff_ab}.\")\n",
    "    \n",
    "    # Calculate the product\n",
    "    prod_ab = a * b\n",
    "    print(f\"The product of {a} and {b} is {prod_ab}.\")\n",
    "    \n",
    "    # Calculate the quotient\n",
    "    if b != 0:\n",
    "        quot_ab = a / b\n",
    "        print(f\"The quotient of {a} divided by {b} is {quot_ab}.\")\n",
    "    else:\n",
    "        print(\"Division by zero is not allowed.\")\n",
    "    \n",
    "    # Calculate the remainder\n",
    "    if b != 0:\n",
    "        rem_ab = a % b\n",
    "        print(f\"The remainder of {a} divided by {b} is {rem_ab}.\")\n",
    "    else:\n",
    "        print(\"Division by zero is not allowed.\")\n",
    "    \n",
    "    # Return a dictionary with the results\n",
    "    return {\n",
    "        'sum': sum_ab,\n",
    "        'difference': diff_ab,\n",
    "        'product': prod_ab,\n",
    "        'quotient': quot_ab if b != 0 else None,\n",
    "        'remainder': rem_ab if b != 0 else None\n",
    "    }\n",
    "\n",
    "process_numbers(4, 22)\n"
   ]
  }
 ],
 "metadata": {
  "kernelspec": {
   "display_name": "Python 3",
   "language": "python",
   "name": "python3"
  },
  "language_info": {
   "codemirror_mode": {
    "name": "ipython",
    "version": 3
   },
   "file_extension": ".py",
   "mimetype": "text/x-python",
   "name": "python",
   "nbconvert_exporter": "python",
   "pygments_lexer": "ipython3",
   "version": "3.12.3"
  }
 },
 "nbformat": 4,
 "nbformat_minor": 2
}
