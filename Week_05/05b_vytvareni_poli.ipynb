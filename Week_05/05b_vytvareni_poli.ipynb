{
    "cells": [
        {
            "attachments": {},
            "cell_type": "markdown",
            "metadata": {},
            "source": [
                "# Importujeme numpy\n",
                "\n",
                "Chceme-li použít `numpy`, je samozřejmě nutné modul importovat. Obvykle se použivá zkratka `np`: \n"
            ]
        },
        {
            "cell_type": "code",
            "execution_count": 36,
            "metadata": {
                "jupyter": {
                    "outputs_hidden": false
                }
            },
            "outputs": [],
            "source": [
                "import numpy as np\n"
            ]
        },
        {
            "attachments": {},
            "cell_type": "markdown",
            "metadata": {},
            "source": [
                "## Vytváření numpy polí\n",
                "Existuje několik základních způsobů, jak vytvořit nové numpy pole:\n",
                "\n",
                "- Z nějakého kontejneru typu seznam (`list`) nebo `tuple`.\n",
                "    - např. `np.array([1, 2, 3])`\n",
                "- Pomocí funkce numpy, která generuje `ndarray` s konkrétními hodnotami\n",
                "    - např. `np.zeros((2, 3))` vytvoří pole o velikosti 2x3, kde jsou všechny prvky rovny 0\n",
                "    - např. `np.ones((2, 3))` vytvoří pole o velikosti 2x3, kde jsou všechny prvky rovny 1\n",
                "    - např. `np.full((2, 3), 5)` vytvoří pole o velikosti 2x3, kde jsou všechny prvky rovny 5\n",
                "    - např. `np.arange(10)` vytvoří pole o velikosti 10, kde jsou všechny prvky rovny 0, 1, 2, 3, 4, 5, 6, 7, 8, 9\n",
                "    - např. `np.linspace(0, 1, 5)` vytvoří pole o velikosti 5, kde jsou všechny prvky rovny 0, 0.25, 0.5, 0.75, 1\n",
                "    - např. `np.logspace(0, 1, 5)` vytvoří pole o velikosti 5, kde jsou všechny prvky rovny 1, 1.778, 3.162, 5.623, 10\n",
                "    - např. `np.random.random((2, 3))` vytvoří pole o velikosti 2x3, kde jsou všechny prvky rovny náhodným číslům z intervalu [0, 1)\n",
                "    - např. `np.random.normal(0, 1, (2, 3))` vytvoří pole o velikosti 2x3, kde jsou všechny prvky rovny náhodným číslům z normálního rozdělení s průměrem 0 a směrodatnou odchylkou 1\n",
                "    - např. `np.random.randint(0, 10, (2, 3))` vytvoří pole o velikosti 2x3, kde jsou všechny prvky rovny náhodným celým číslům z intervalu [0, 10)\n",
                "    - Z jiného numpy pole\n",
                "        - např. pomocí výběru (slicing), pozor na to, že se vytvoří nové pole, které sdílí data s původním polem (view)\n",
                "        - např. pomocí `np.diag` pro vytvoření pole z diagonály jiného pole\n",
                "        - např. pomocí `np.diagflat` pro vytvoření pole s diagonálou z jiného pole\n",
                "        - např. pomocí `np.triu` pro vytvoření pole s horní trojúhelníkovou maticí z jiného pole\n",
                "        - např. pomocí `np.tril` pro vytvoření pole s dolní trojúhelníkovou maticí z jiného pole\n",
                "        - např. pomocí slepení (concatenation) pomocí `np.concatenate`, `np.vstack`, `np.hstack`\n",
                "        - např. pomocí `np.repeat` a `np.tile` pro opakování pole\n",
                "- Načtením ze souboru\n",
                "    - např. `np.loadtxt('filename.txt')` načte pole ze souboru `filename.txt`\n",
                "    - např. `np.genfromtxt('filename.txt', delimiter=',')` načte pole ze souboru `filename.txt` s oddělovačem čárka\n"
            ]
        },
        {
            "attachments": {},
            "cell_type": "markdown",
            "metadata": {},
            "source": [
                "### Vytváření numpy polí z python kontejnerů"
            ]
        },
        {
            "cell_type": "code",
            "execution_count": null,
            "metadata": {},
            "outputs": [],
            "source": [
                "muj_list = [1, 2, 3, 4, 5]\n",
                "A = np.array(muj_list)\n",
                "print(A)\n",
                "print(A.dtype)\n"
            ]
        },
        {
            "cell_type": "markdown",
            "metadata": {},
            "source": [
                "Vícerozměrné pole (matice) se vytvoří z vnořeného seznamu."
            ]
        },
        {
            "cell_type": "code",
            "execution_count": null,
            "metadata": {
                "jupyter": {
                    "outputs_hidden": false
                }
            },
            "outputs": [],
            "source": [
                "matrix = np.array([[1, 2], [3, 4]])\n",
                "matrix\n"
            ]
        },
        {
            "cell_type": "code",
            "execution_count": 37,
            "metadata": {},
            "outputs": [
                {
                    "name": "stdout",
                    "output_type": "stream",
                    "text": [
                        "[1 2 3 4 5]\n",
                        "int64\n"
                    ]
                }
            ],
            "source": [
                "muj_touple = (1, 2, 3, 4, 5)\n",
                "A = np.array(muj_touple)\n",
                "print(A)\n",
                "print(A.dtype)\n"
            ]
        },
        {
            "attachments": {},
            "cell_type": "markdown",
            "metadata": {},
            "source": [
                "Ze `set` a `dict` se vytvoří něco jiného než bychom asi očekávali."
            ]
        },
        {
            "cell_type": "code",
            "execution_count": 38,
            "metadata": {},
            "outputs": [
                {
                    "name": "stdout",
                    "output_type": "stream",
                    "text": [
                        "{1, 2, 3, 4, 5}\n",
                        "<class 'numpy.ndarray'>\n",
                        "object\n",
                        "()\n",
                        "1\n",
                        "0\n",
                        "8\n"
                    ]
                }
            ],
            "source": [
                "muj_set = {1, 2, 3, 4, 5}\n",
                "A = np.array(muj_set)\n",
                "print(A)\n",
                "print(type(A))\n",
                "print(A.dtype)\n",
                "print(A.shape)\n",
                "print(A.size)\n",
                "print(A.ndim)\n",
                "print(A.itemsize)\n"
            ]
        },
        {
            "cell_type": "code",
            "execution_count": 39,
            "metadata": {},
            "outputs": [
                {
                    "name": "stdout",
                    "output_type": "stream",
                    "text": [
                        "{'a': 1, 'b': 2, 'c': 3, 'd': 4, 'e': 5}\n",
                        "<class 'numpy.ndarray'>\n",
                        "object\n",
                        "()\n",
                        "1\n",
                        "0\n",
                        "8\n"
                    ]
                }
            ],
            "source": [
                "muj_dict = {'a': 1, 'b': 2, 'c': 3, 'd': 4, 'e': 5}\n",
                "A = np.array(muj_dict)\n",
                "print(A)\n",
                "print(type(A))\n",
                "print(A.dtype)\n",
                "print(A.shape)\n",
                "print(A.size)\n",
                "print(A.ndim)\n",
                "print(A.itemsize)\n"
            ]
        },
        {
            "attachments": {},
            "cell_type": "markdown",
            "metadata": {},
            "source": [
                "### Numpy funkce pro vytváření ndarray\n",
                "Zejména velká pole by bylo nepraktické inicializovat pomocí seznamů. Naštěstí v numpy existují [funkce](http://docs.scipy.org/doc/numpy/reference/routines.array-creation.html), které generují typická pole."
            ]
        },
        {
            "attachments": {},
            "cell_type": "markdown",
            "metadata": {},
            "source": [
                "**`arange`** vygeneruje posloupnost, syntaxe je stejná jako `range`, ale funguje i pro desetinná a záporná čísla."
            ]
        },
        {
            "cell_type": "code",
            "execution_count": null,
            "metadata": {
                "jupyter": {
                    "outputs_hidden": false
                }
            },
            "outputs": [],
            "source": [
                "np.arange(0, 10, 1)  # argumenty: start, stop, step\n"
            ]
        },
        {
            "cell_type": "code",
            "execution_count": 2,
            "metadata": {
                "jupyter": {
                    "outputs_hidden": false
                }
            },
            "outputs": [
                {
                    "data": {
                        "text/plain": [
                            "array([-1. , -0.9, -0.8, -0.7, -0.6, -0.5, -0.4, -0.3, -0.2, -0.1])"
                        ]
                    },
                    "execution_count": 2,
                    "metadata": {},
                    "output_type": "execute_result"
                }
            ],
            "source": [
                "np.arange(-1, 0, 0.1)"
            ]
        },
        {
            "cell_type": "markdown",
            "metadata": {},
            "source": [
                "**`linspace`** a **`logspace`** vytváří posloupnosti s daným počtem prvků."
            ]
        },
        {
            "cell_type": "code",
            "execution_count": 40,
            "metadata": {
                "jupyter": {
                    "outputs_hidden": false
                }
            },
            "outputs": [
                {
                    "data": {
                        "text/plain": [
                            "array([ 0. ,  2.5,  5. ,  7.5, 10. ])"
                        ]
                    },
                    "execution_count": 40,
                    "metadata": {},
                    "output_type": "execute_result"
                }
            ],
            "source": [
                "# první a poslední prvek jsou obsaženy ve výsledku\n",
                "# argumenty jsou odkud, kam, kolik prvků\n",
                "np.linspace(0, 10, 5)\n"
            ]
        },
        {
            "cell_type": "code",
            "execution_count": 51,
            "metadata": {
                "jupyter": {
                    "outputs_hidden": false
                }
            },
            "outputs": [
                {
                    "name": "stdout",
                    "output_type": "stream",
                    "text": [
                        "[1.e+00 1.e+01 1.e+02 1.e+03 1.e+04 1.e+05 1.e+06 1.e+07 1.e+08 1.e+09\n",
                        " 1.e+10]\n"
                    ]
                }
            ],
            "source": [
                "# podobně jako linspace, ale výsledek je base**x\n",
                "mkfgj = np.logspace(int(0), int(10), 11, base=int(10))\n",
                "#int(mkfgj[10])\n",
                "print(mkfgj)"
            ]
        },
        {
            "cell_type": "markdown",
            "metadata": {},
            "source": [
                "**`ones`** a **`zeros`** vytvoří pole ze samých nul nebo jedniček."
            ]
        },
        {
            "cell_type": "code",
            "execution_count": null,
            "metadata": {
                "jupyter": {
                    "outputs_hidden": false
                }
            },
            "outputs": [],
            "source": [
                "np.ones(3)\n"
            ]
        },
        {
            "cell_type": "code",
            "execution_count": null,
            "metadata": {
                "jupyter": {
                    "outputs_hidden": false
                }
            },
            "outputs": [],
            "source": [
                "# pokud chceme 2 a více rozměrů, musíme zadat rozměr jako tuple\n",
                "np.zeros((2, 3))\n"
            ]
        },
        {
            "cell_type": "code",
            "execution_count": 4,
            "metadata": {},
            "outputs": [
                {
                    "data": {
                        "text/plain": [
                            "array([['hello world', 'hello world', 'hello world'],\n",
                            "       ['hello world', 'hello world', 'hello world']], dtype='<U11')"
                        ]
                    },
                    "execution_count": 4,
                    "metadata": {},
                    "output_type": "execute_result"
                }
            ],
            "source": [
                "# matice s string hodnotami pomocí np.full\n",
                "np.full((2, 3), \"hello world\")"
            ]
        },
        {
            "attachments": {},
            "cell_type": "markdown",
            "metadata": {},
            "source": [
                "- **`meshgrid`** je funkce která tvoří pravidelnou mřížku bodů dle dělení v jednotlivých dimenzích \n",
                "- **`mgrid`** je jakási \"zkratka\" pro **`meshgrid`**, jedná se o objek třídy `MGridClass` který má metodu **`__getitem__`** která umožňuje zadání pomocí indexů (např. `mgrid[0:5, 0:5]`) - **velmi nestandardní syntaxe**!\n",
                "    - Navíc: z dokumentace třídy: \"However, if the step length is a **complex number** (e.g. 5j), then\n",
                "    the integer part of its magnitude is interpreted as specifying the\n",
                "    number of points to create between the start and stop values, where\n",
                "    the stop value **is inclusive**.\"\n",
                "    - oproti `mashgrid` jsou argumenty (oddělené čárkou), v jiném pořadí protože osa `x` jsou sloupce a osa `y` jsou řádky (při indexování v `[ ]`)\n",
                "- **`ogrid`** funguje stejně jako **`mgrid`**, ale vrací pouze 1D pole reprezentující hrany mřížky (např. `ogrid[0:5, 0:5]` vrací 2 pole o velikosti 5, které obsahují hodnoty 0, 1, 2, 3, 4)"
            ]
        },
        {
            "cell_type": "code",
            "execution_count": 52,
            "metadata": {},
            "outputs": [
                {
                    "name": "stdout",
                    "output_type": "stream",
                    "text": [
                        "[[-1.         -0.33333333  0.33333333  1.        ]\n",
                        " [-1.         -0.33333333  0.33333333  1.        ]\n",
                        " [-1.         -0.33333333  0.33333333  1.        ]]\n",
                        "[[1.  1.  1.  1. ]\n",
                        " [1.5 1.5 1.5 1.5]\n",
                        " [2.  2.  2.  2. ]]\n"
                    ]
                }
            ],
            "source": [
                "# mashgrid\n",
                "x = np.linspace(-1, 1, 4)\n",
                "y = np.linspace(1, 2, 3)\n",
                "X, Y = np.meshgrid(x, y)\n",
                "print(X)\n",
                "print(Y)"
            ]
        },
        {
            "cell_type": "code",
            "execution_count": 53,
            "metadata": {
                "jupyter": {
                    "outputs_hidden": false
                }
            },
            "outputs": [
                {
                    "name": "stdout",
                    "output_type": "stream",
                    "text": [
                        "[[0.  0.  0. ]\n",
                        " [0.2 0.2 0.2]\n",
                        " [0.4 0.4 0.4]]\n",
                        "[[0.  0.2 0.4]\n",
                        " [0.  0.2 0.4]\n",
                        " [0.  0.2 0.4]]\n",
                        "[[-1.         -0.33333333  0.33333333  1.        ]\n",
                        " [-1.         -0.33333333  0.33333333  1.        ]\n",
                        " [-1.         -0.33333333  0.33333333  1.        ]]\n",
                        "[[1.  1.  1.  1. ]\n",
                        " [1.5 1.5 1.5 1.5]\n",
                        " [2.  2.  2.  2. ]]\n"
                    ]
                }
            ],
            "source": [
                "# všimněte si syntaxe s hranatými závorkami, mgrid se nevolá jako funkce\n",
                "X, Y = np.mgrid[0:0.6:0.2, 0:0.6:0.2]\n",
                "print(X)\n",
                "print(Y)\n",
                "Y, X = np.mgrid[1:2:3j, -1:1:4j]\n",
                "print(X)\n",
                "print(Y)"
            ]
        },
        {
            "cell_type": "code",
            "execution_count": 54,
            "metadata": {},
            "outputs": [
                {
                    "name": "stdout",
                    "output_type": "stream",
                    "text": [
                        "[[-1.         -0.33333333  0.33333333  1.        ]]\n",
                        "[[1. ]\n",
                        " [1.5]\n",
                        " [2. ]]\n"
                    ]
                }
            ],
            "source": [
                "# výstupy jsou řádkové a sloupcové vektory\n",
                "y, x = np.ogrid[1:2:3j, -1:1:4j]\n",
                "print(x)\n",
                "print(y)\n"
            ]
        },
        {
            "attachments": {},
            "cell_type": "markdown",
            "metadata": {},
            "source": [
                "Náhodná data vytvoří funkce z modulu **`random`**, základní z nich je **`rand`**."
            ]
        },
        {
            "cell_type": "code",
            "execution_count": 55,
            "metadata": {
                "jupyter": {
                    "outputs_hidden": false
                }
            },
            "outputs": [
                {
                    "name": "stdout",
                    "output_type": "stream",
                    "text": [
                        "[[0.28712176 0.49981709]\n",
                        " [0.26709329 0.52933814]\n",
                        " [0.7740558  0.46298777]\n",
                        " [0.55636698 0.68411133]]\n",
                        "[[-0.26390571 -0.25759085]\n",
                        " [ 0.78999851 -1.51106484]\n",
                        " [ 0.86122132 -0.07468912]\n",
                        " [-0.06506721  0.50449695]]\n",
                        "[[4 7]\n",
                        " [4 1]\n",
                        " [4 3]\n",
                        " [0 7]]\n"
                    ]
                }
            ],
            "source": [
                "# několik náhodných čísel [0, 1] s rovnoměrným rozdělením\n",
                "print(np.random.rand(4,2))\n",
                "# několik náhodných čísel s normálním rozdělením\n",
                "print(np.random.randn(4,2))\n",
                "# několik náhodných celých čísel\n",
                "print(np.random.randint(0, 10, (4,2)))"
            ]
        },
        {
            "cell_type": "markdown",
            "metadata": {},
            "source": [
                "**`diagflat`** vytvoří diagonální matici, **`diagonal`** vrátí diagonálu matice."
            ]
        },
        {
            "cell_type": "code",
            "execution_count": 12,
            "metadata": {
                "jupyter": {
                    "outputs_hidden": false
                }
            },
            "outputs": [
                {
                    "name": "stdout",
                    "output_type": "stream",
                    "text": [
                        "[[1 0 0]\n",
                        " [0 2 0]\n",
                        " [0 0 3]]\n"
                    ]
                }
            ],
            "source": [
                "# diagonální matice\n",
                "diag = np.diagflat([1, 2, 3])\n",
                "print(diag)\n"
            ]
        },
        {
            "cell_type": "code",
            "execution_count": 56,
            "metadata": {
                "jupyter": {
                    "outputs_hidden": false
                }
            },
            "outputs": [
                {
                    "name": "stdout",
                    "output_type": "stream",
                    "text": [
                        "[1 2 3]\n"
                    ]
                }
            ],
            "source": [
                "# vrátí diagonálu jako vektor\n",
                "print(np.diagonal(diag))\n"
            ]
        },
        {
            "attachments": {},
            "cell_type": "markdown",
            "metadata": {},
            "source": [
                "Definované výřezy z manice `triu` a `tril` vrací horní a dolní trojúhelníkovou matici. \n",
                "- parametr `k` určuje, o kolik se má diagonála posunout od hlavní diagonály (k=0 je hlavní diagonála, k>0 je diagonála nad hlavní diagonálou, k<0 je diagonála pod hlavní diagonálou)\n",
                "- pozor na `k` při použití s `tril` a `triu` číslování je absolutní = tj. pokud nám jde o vynechání vedlejší diagonály tak musíme použít `k=1` pro triu a `k=-1` pro tril"
            ]
        },
        {
            "cell_type": "code",
            "execution_count": 14,
            "metadata": {},
            "outputs": [
                {
                    "name": "stdout",
                    "output_type": "stream",
                    "text": [
                        "[[1 2 3]\n",
                        " [4 5 6]\n",
                        " [7 8 9]]\n",
                        "[[1 2 3]\n",
                        " [0 5 6]\n",
                        " [0 0 9]]\n",
                        "[[1 2 0]\n",
                        " [4 5 6]\n",
                        " [7 8 9]]\n"
                    ]
                }
            ],
            "source": [
                "A = np.array([[1, 2, 3], [4, 5, 6], [7, 8, 9]])\n",
                "print(A)\n",
                "print(np.triu(A, k=0))\n",
                "print(np.tril(A, k=1))\n"
            ]
        },
        {
            "attachments": {},
            "cell_type": "markdown",
            "metadata": {},
            "source": [
                "Lepení matic pomocí `concatenate`, `vstack` a `hstack`. Dimenze skrze které lepíme musí být shodné."
            ]
        },
        {
            "cell_type": "code",
            "execution_count": 57,
            "metadata": {},
            "outputs": [
                {
                    "name": "stdout",
                    "output_type": "stream",
                    "text": [
                        "[[1 2]\n",
                        " [4 5]\n",
                        " [7 8]]\n",
                        "[[ 3  4]\n",
                        " [ 6  7]\n",
                        " [ 9 10]]\n",
                        "----\n",
                        "[[ 1  2]\n",
                        " [ 4  5]\n",
                        " [ 7  8]\n",
                        " [ 3  4]\n",
                        " [ 6  7]\n",
                        " [ 9 10]]\n",
                        "[[ 1  2  3  4]\n",
                        " [ 4  5  6  7]\n",
                        " [ 7  8  9 10]]\n",
                        "----\n",
                        "[[ 1  2]\n",
                        " [ 4  5]\n",
                        " [ 7  8]\n",
                        " [ 3  4]\n",
                        " [ 6  7]\n",
                        " [ 9 10]]\n",
                        "[[ 1  2  3  4]\n",
                        " [ 4  5  6  7]\n",
                        " [ 7  8  9 10]]\n"
                    ]
                }
            ],
            "source": [
                "A = np.array([[1, 2], [4, 5], [7, 8]])\n",
                "B = np.array([[3, 4], [6, 7], [9, 10]])\n",
                "print(A)\n",
                "print(B)\n",
                "print(\"----\")\n",
                "print(np.concatenate((A, B), axis=0))\n",
                "print(np.concatenate((A, B), axis=1))\n",
                "print(\"----\")\n",
                "print(np.vstack((A, B)))\n",
                "print(np.hstack((A, B)))\n"
            ]
        },
        {
            "attachments": {},
            "cell_type": "markdown",
            "metadata": {},
            "source": [
                "### Opakování numpy polí\n",
                "\n",
                "Na opakování máme funkce `repeat` a `tile`"
            ]
        },
        {
            "cell_type": "code",
            "execution_count": 58,
            "metadata": {},
            "outputs": [
                {
                    "data": {
                        "text/plain": [
                            "array([[1, 2],\n",
                            "       [3, 4]])"
                        ]
                    },
                    "execution_count": 58,
                    "metadata": {},
                    "output_type": "execute_result"
                }
            ],
            "source": [
                "a = np.array([[1, 2], [3, 4]])\n",
                "a\n"
            ]
        },
        {
            "cell_type": "code",
            "execution_count": 59,
            "metadata": {},
            "outputs": [
                {
                    "data": {
                        "text/plain": [
                            "array([1, 1, 1, 2, 2, 2, 3, 3, 3, 4, 4, 4])"
                        ]
                    },
                    "execution_count": 59,
                    "metadata": {},
                    "output_type": "execute_result"
                }
            ],
            "source": [
                "# opakování po prvcích\n",
                "np.repeat(a, 3)\n"
            ]
        },
        {
            "cell_type": "code",
            "execution_count": 60,
            "metadata": {},
            "outputs": [
                {
                    "data": {
                        "text/plain": [
                            "array([[1, 2, 1, 2],\n",
                            "       [3, 4, 3, 4],\n",
                            "       [1, 2, 1, 2],\n",
                            "       [3, 4, 3, 4],\n",
                            "       [1, 2, 1, 2],\n",
                            "       [3, 4, 3, 4]])"
                        ]
                    },
                    "execution_count": 60,
                    "metadata": {},
                    "output_type": "execute_result"
                }
            ],
            "source": [
                "# skládání celých polí\n",
                "np.tile(a, (3, 2))\n"
            ]
        },
        {
            "cell_type": "markdown",
            "metadata": {},
            "source": [
                "# Změny rozměrů polí\n",
                "\n",
                "Rozměr Numpy polí může být měněn."
            ]
        },
        {
            "cell_type": "code",
            "execution_count": 61,
            "metadata": {},
            "outputs": [
                {
                    "name": "stdout",
                    "output_type": "stream",
                    "text": [
                        "[[1 2 3]\n",
                        " [4 5 6]\n",
                        " [7 8 9]]\n"
                    ]
                }
            ],
            "source": [
                "m1 = np.array([[1, 2, 3], [4, 5, 6], [7, 8, 9]])\n",
                "print(m1)"
            ]
        },
        {
            "cell_type": "code",
            "execution_count": 62,
            "metadata": {},
            "outputs": [
                {
                    "name": "stdout",
                    "output_type": "stream",
                    "text": [
                        "3 3\n"
                    ]
                }
            ],
            "source": [
                "n, m = m1.shape\n",
                "print(m,n)"
            ]
        },
        {
            "cell_type": "markdown",
            "metadata": {},
            "source": [
                "Např. takto můžeme vytvořit jednorozměrné pole (řádkový vektor):"
            ]
        },
        {
            "cell_type": "code",
            "execution_count": 63,
            "metadata": {},
            "outputs": [
                {
                    "name": "stdout",
                    "output_type": "stream",
                    "text": [
                        "[[1 2 3 4 5 6 7 8 9]]\n",
                        "(1, 9)\n"
                    ]
                }
            ],
            "source": [
                "m2 = m1.reshape((1, n * m))\n",
                "print(m2)\n",
                "print(m2.shape)"
            ]
        },
        {
            "cell_type": "markdown",
            "metadata": {},
            "source": [
                "Nebo použít -1 pro automatické dopočítání"
            ]
        },
        {
            "cell_type": "code",
            "execution_count": null,
            "metadata": {},
            "outputs": [],
            "source": [
                "m1.reshape((1, -1))\n"
            ]
        },
        {
            "cell_type": "markdown",
            "metadata": {},
            "source": [
                "Kdybychom chtěli skutečný 1D vector, můžeme použít:\n",
                "- reshape\n",
                "- ravel"
            ]
        },
        {
            "cell_type": "code",
            "execution_count": 64,
            "metadata": {},
            "outputs": [
                {
                    "name": "stdout",
                    "output_type": "stream",
                    "text": [
                        "[1 2 3 4 5 6 7 8 9]\n",
                        "[1 2 3 4 5 6 7 8 9]\n",
                        "[1 2 3 4 5 6 7 8 9]\n",
                        "[1 2 3 4 5 6 7 8 9]\n"
                    ]
                }
            ],
            "source": [
                "m2 = m1.reshape((n * m))\n",
                "print(m2)\n",
                "# nebo\n",
                "m2 = m1.reshape((-1))\n",
                "print(m2)\n",
                "# nebo\n",
                "m2 = m1.flatten() \n",
                "print(m2)\n",
                "# nebo \n",
                "m2 = m1.ravel()\n",
                "print(m2)\n"
            ]
        },
        {
            "cell_type": "markdown",
            "metadata": {},
            "source": [
                "### Přidávání dimenzí: `newaxis`\n",
                "\n",
                "Pomocí `newaxis` můžeme jednoduše pomocí řezů přidávat dimenze. Např. převod 1d vektoru na sloupcovou nebo řádkovou matici.\n",
                "\n",
                "`newaxis` je pouze konstanta o hodnotě `None`, jedinným účelem je lepší čitelnost kódu.\n",
                "\n",
                "Stále se bude jednat o view na původní data."
            ]
        },
        {
            "cell_type": "code",
            "execution_count": 65,
            "metadata": {},
            "outputs": [
                {
                    "name": "stdout",
                    "output_type": "stream",
                    "text": [
                        "(3,)\n",
                        "[1 2 3]\n"
                    ]
                }
            ],
            "source": [
                "v = np.array([1, 2, 3])\n",
                "print(v.shape)\n",
                "print(v)"
            ]
        },
        {
            "cell_type": "code",
            "execution_count": 66,
            "metadata": {},
            "outputs": [
                {
                    "data": {
                        "text/plain": [
                            "array([[1],\n",
                            "       [2],\n",
                            "       [3]])"
                        ]
                    },
                    "execution_count": 66,
                    "metadata": {},
                    "output_type": "execute_result"
                }
            ],
            "source": [
                "# vytvoříme sloupec\n",
                "vc = v[:, np.newaxis]\n",
                "vc\n"
            ]
        },
        {
            "cell_type": "code",
            "execution_count": 68,
            "metadata": {},
            "outputs": [
                {
                    "name": "stdout",
                    "output_type": "stream",
                    "text": [
                        "[[1 2 3]]\n"
                    ]
                }
            ],
            "source": [
                "vc = v[None,:]\n",
                "print(vc)\n"
            ]
        },
        {
            "cell_type": "code",
            "execution_count": 67,
            "metadata": {},
            "outputs": [
                {
                    "data": {
                        "text/plain": [
                            "(3, 1)"
                        ]
                    },
                    "execution_count": 67,
                    "metadata": {},
                    "output_type": "execute_result"
                }
            ],
            "source": [
                "vc.shape\n"
            ]
        },
        {
            "cell_type": "markdown",
            "metadata": {},
            "source": [
                "# Vykrelování NumPy polí pomocí Matplotlib (crash curse)\n",
                "\n",
                "Matplotlib je knihovna pro vykreslování grafů v Pythonu. Je velmi populární a má velkou podporu od komunity. Matplotlib je dobře integrována s NumPy, takže výstupy lze snadno vykreslit.\n",
                "\n",
                "Pro základní použití Matplotlibu stačí importovat knihovnu `matplotlib.pyplot`, zvykem je použít alias `plt`.\n"
            ]
        },
        {
            "cell_type": "code",
            "execution_count": 24,
            "metadata": {},
            "outputs": [],
            "source": [
                "import matplotlib.pyplot as plt"
            ]
        },
        {
            "cell_type": "markdown",
            "metadata": {},
            "source": [
                "## Graf a obrázek\n",
                "Ukážeme si pouze úplný základ:\n",
                "- jak vykreslit jednoduchý graf pomocí `plt.plot()`\n",
                "- jak vykreslit matici jako obrázek pomocí `plt.imshow()`"
            ]
        },
        {
            "cell_type": "code",
            "execution_count": 35,
            "metadata": {},
            "outputs": [
                {
                    "name": "stdout",
                    "output_type": "stream",
                    "text": [
                        "[[1. 1. 1. ... 1. 1. 1.]\n",
                        " [1. 1. 1. ... 1. 1. 1.]\n",
                        " [1. 1. 1. ... 1. 1. 1.]\n",
                        " ...\n",
                        " [1. 1. 1. ... 1. 1. 1.]\n",
                        " [1. 1. 1. ... 1. 1. 1.]\n",
                        " [1. 1. 1. ... 1. 1. 1.]]\n"
                    ]
                },
                {
                    "data": {
                        "text/plain": [
                            "[<matplotlib.lines.Line2D at 0x7ea40677f620>]"
                        ]
                    },
                    "execution_count": 35,
                    "metadata": {},
                    "output_type": "execute_result"
                },
                {
                    "data": {
                        "image/png": "[encoded data removed]",
                        "text/plain": [
                            "<Figure size 640x480 with 1 Axes>"
                        ]
                    },
                    "metadata": {},
                    "output_type": "display_data"
                }
            ],
            "source": [
                "x = np.linspace(0, 2*np.pi, 100)\n",
                "y = np.sin(x)\n",
                "A = np.ones((100, 100))\n",
                "print(A)\n",
                "plt.plot(x, y)"
            ]
        },
        {
            "cell_type": "code",
            "execution_count": 34,
            "metadata": {},
            "outputs": [
                {
                    "data": {
                        "text/plain": [
                            "<matplotlib.image.AxesImage at 0x7ea40c337560>"
                        ]
                    },
                    "execution_count": 34,
                    "metadata": {},
                    "output_type": "execute_result"
                },
                {
                    "data": {
                        "image/png": "[encoded data removed]",
                        "text/plain": [
                            "<Figure size 640x480 with 1 Axes>"
                        ]
                    },
                    "metadata": {},
                    "output_type": "display_data"
                }
            ],
            "source": [
                "plt.imshow(A)\n"
            ]
        }
    ],
    "metadata": {
        "kernelspec": {
            "display_name": "Python 3 (ipykernel)",
            "language": "python",
            "name": "python3"
        },
        "language_info": {
            "codemirror_mode": {
                "name": "ipython",
                "version": 3
            },
            "file_extension": ".py",
            "mimetype": "text/x-python",
            "name": "python",
            "nbconvert_exporter": "python",
            "pygments_lexer": "ipython3",
            "version": "3.12.3"
        }
    },
    "nbformat": 4,
    "nbformat_minor": 4
}
